{
 "cells": [
  {
   "cell_type": "code",
   "execution_count": null,
   "id": "da18e281-d03c-488b-8d30-ee99500b79e5",
   "metadata": {},
   "outputs": [],
   "source": []
  },
  {
   "cell_type": "code",
   "execution_count": 1,
   "id": "cc4af2d8-3b12-4e5e-8278-7abca6bcb2fc",
   "metadata": {},
   "outputs": [
    {
     "name": "stdout",
     "output_type": "stream",
     "text": [
      "Requirement already satisfied: statsmodels in c:\\users\\omast\\anaconda3\\lib\\site-packages (0.14.2)\n",
      "Requirement already satisfied: numpy>=1.22.3 in c:\\users\\omast\\anaconda3\\lib\\site-packages (from statsmodels) (1.26.4)\n",
      "Requirement already satisfied: scipy!=1.9.2,>=1.8 in c:\\users\\omast\\anaconda3\\lib\\site-packages (from statsmodels) (1.13.1)\n",
      "Requirement already satisfied: pandas!=2.1.0,>=1.4 in c:\\users\\omast\\anaconda3\\lib\\site-packages (from statsmodels) (2.2.2)\n",
      "Requirement already satisfied: patsy>=0.5.6 in c:\\users\\omast\\anaconda3\\lib\\site-packages (from statsmodels) (0.5.6)\n",
      "Requirement already satisfied: packaging>=21.3 in c:\\users\\omast\\anaconda3\\lib\\site-packages (from statsmodels) (24.1)\n",
      "Requirement already satisfied: python-dateutil>=2.8.2 in c:\\users\\omast\\anaconda3\\lib\\site-packages (from pandas!=2.1.0,>=1.4->statsmodels) (2.9.0.post0)\n",
      "Requirement already satisfied: pytz>=2020.1 in c:\\users\\omast\\anaconda3\\lib\\site-packages (from pandas!=2.1.0,>=1.4->statsmodels) (2024.1)\n",
      "Requirement already satisfied: tzdata>=2022.7 in c:\\users\\omast\\anaconda3\\lib\\site-packages (from pandas!=2.1.0,>=1.4->statsmodels) (2023.3)\n",
      "Requirement already satisfied: six in c:\\users\\omast\\anaconda3\\lib\\site-packages (from patsy>=0.5.6->statsmodels) (1.16.0)\n",
      "Note: you may need to restart the kernel to use updated packages.\n"
     ]
    }
   ],
   "source": [
    "pip install statsmodels"
   ]
  },
  {
   "cell_type": "markdown",
   "id": "83d685b5-49df-4d4c-8cc0-a919b38c0cf6",
   "metadata": {},
   "source": [
    "### Importing Libraries"
   ]
  },
  {
   "cell_type": "code",
   "execution_count": 62,
   "id": "9f8aab8a-b463-4606-8547-ca1de814d9cc",
   "metadata": {},
   "outputs": [],
   "source": [
    "import numpy as np\n",
    "import pandas as pd\n",
    "from matplotlib import pyplot as plt\n",
    "%matplotlib inline\n",
    "import seaborn as sns\n",
    "import scipy.stats as stats\n",
    "sns.set() #s\n",
    "import warnings\n",
    "warnings.simplefilter(action=\"ignore\")"
   ]
  },
  {
   "cell_type": "code",
   "execution_count": 64,
   "id": "6c4c2eba-afb1-4bd5-94f6-1ef949cd5fc2",
   "metadata": {},
   "outputs": [],
   "source": [
    "from statsmodels.tsa.seasonal import seasonal_decompose\n",
    "from statsmodels.graphics.tsaplots import plot_acf, plot_pacf\n",
    "from statsmodels.tsa.arima.model import ARIMA\n",
    "from statsmodels.tsa.holtwinters import ExponentialSmoothing\n",
    "from sklearn.metrics import mean_squared_error"
   ]
  },
  {
   "cell_type": "code",
   "execution_count": 66,
   "id": "8146524e-7ebf-4ff6-9dfb-cb8162a7099c",
   "metadata": {},
   "outputs": [],
   "source": [
    "df = pd.read_excel(r\"C:\\Users\\Omast\\OneDrive\\Desktop\\monthly_sales_data .xlsx\")"
   ]
  },
  {
   "cell_type": "markdown",
   "id": "3ea3b91f-0e81-4a01-abff-575dcbee318f",
   "metadata": {},
   "source": [
    "### View the first 5and last five rows of the dataset"
   ]
  },
  {
   "cell_type": "code",
   "execution_count": 69,
   "id": "d9ded75f-cf42-47b6-90f3-671cc3f10458",
   "metadata": {},
   "outputs": [
    {
     "data": {
      "text/html": [
       "<div>\n",
       "<style scoped>\n",
       "    .dataframe tbody tr th:only-of-type {\n",
       "        vertical-align: middle;\n",
       "    }\n",
       "\n",
       "    .dataframe tbody tr th {\n",
       "        vertical-align: top;\n",
       "    }\n",
       "\n",
       "    .dataframe thead th {\n",
       "        text-align: right;\n",
       "    }\n",
       "</style>\n",
       "<table border=\"1\" class=\"dataframe\">\n",
       "  <thead>\n",
       "    <tr style=\"text-align: right;\">\n",
       "      <th></th>\n",
       "      <th>Category</th>\n",
       "      <th>Month</th>\n",
       "      <th>Monthly Sales</th>\n",
       "      <th>Year</th>\n",
       "      <th>DayOfWeek</th>\n",
       "      <th>Platform</th>\n",
       "      <th>Holiday</th>\n",
       "      <th>Promotion</th>\n",
       "    </tr>\n",
       "  </thead>\n",
       "  <tbody>\n",
       "    <tr>\n",
       "      <th>0</th>\n",
       "      <td>Sports</td>\n",
       "      <td>2002-01-01</td>\n",
       "      <td>108592</td>\n",
       "      <td>2002</td>\n",
       "      <td>1</td>\n",
       "      <td>Xbox</td>\n",
       "      <td>1</td>\n",
       "      <td>0</td>\n",
       "    </tr>\n",
       "    <tr>\n",
       "      <th>1</th>\n",
       "      <td>RPG</td>\n",
       "      <td>2002-02-01</td>\n",
       "      <td>129387</td>\n",
       "      <td>2002</td>\n",
       "      <td>4</td>\n",
       "      <td>Nintendo</td>\n",
       "      <td>0</td>\n",
       "      <td>0</td>\n",
       "    </tr>\n",
       "    <tr>\n",
       "      <th>2</th>\n",
       "      <td>Sports</td>\n",
       "      <td>2002-03-01</td>\n",
       "      <td>114777</td>\n",
       "      <td>2002</td>\n",
       "      <td>4</td>\n",
       "      <td>PC</td>\n",
       "      <td>0</td>\n",
       "      <td>0</td>\n",
       "    </tr>\n",
       "    <tr>\n",
       "      <th>3</th>\n",
       "      <td>Sports</td>\n",
       "      <td>2002-04-01</td>\n",
       "      <td>71738</td>\n",
       "      <td>2002</td>\n",
       "      <td>0</td>\n",
       "      <td>Nintendo</td>\n",
       "      <td>0</td>\n",
       "      <td>0</td>\n",
       "    </tr>\n",
       "    <tr>\n",
       "      <th>4</th>\n",
       "      <td>Simulation</td>\n",
       "      <td>2002-05-01</td>\n",
       "      <td>142512</td>\n",
       "      <td>2002</td>\n",
       "      <td>2</td>\n",
       "      <td>PlayStation</td>\n",
       "      <td>0</td>\n",
       "      <td>0</td>\n",
       "    </tr>\n",
       "  </tbody>\n",
       "</table>\n",
       "</div>"
      ],
      "text/plain": [
       "     Category      Month  Monthly Sales  Year  DayOfWeek     Platform  \\\n",
       "0      Sports 2002-01-01         108592  2002          1         Xbox   \n",
       "1         RPG 2002-02-01         129387  2002          4     Nintendo   \n",
       "2      Sports 2002-03-01         114777  2002          4           PC   \n",
       "3      Sports 2002-04-01          71738  2002          0     Nintendo   \n",
       "4  Simulation 2002-05-01         142512  2002          2  PlayStation   \n",
       "\n",
       "   Holiday  Promotion  \n",
       "0        1          0  \n",
       "1        0          0  \n",
       "2        0          0  \n",
       "3        0          0  \n",
       "4        0          0  "
      ]
     },
     "execution_count": 69,
     "metadata": {},
     "output_type": "execute_result"
    }
   ],
   "source": [
    "df.head()"
   ]
  },
  {
   "cell_type": "code",
   "execution_count": 71,
   "id": "7f3d132f-5482-4a27-8dc3-0f9dc5d1410c",
   "metadata": {},
   "outputs": [
    {
     "data": {
      "text/html": [
       "<div>\n",
       "<style scoped>\n",
       "    .dataframe tbody tr th:only-of-type {\n",
       "        vertical-align: middle;\n",
       "    }\n",
       "\n",
       "    .dataframe tbody tr th {\n",
       "        vertical-align: top;\n",
       "    }\n",
       "\n",
       "    .dataframe thead th {\n",
       "        text-align: right;\n",
       "    }\n",
       "</style>\n",
       "<table border=\"1\" class=\"dataframe\">\n",
       "  <thead>\n",
       "    <tr style=\"text-align: right;\">\n",
       "      <th></th>\n",
       "      <th>Category</th>\n",
       "      <th>Month</th>\n",
       "      <th>Monthly Sales</th>\n",
       "      <th>Year</th>\n",
       "      <th>DayOfWeek</th>\n",
       "      <th>Platform</th>\n",
       "      <th>Holiday</th>\n",
       "      <th>Promotion</th>\n",
       "    </tr>\n",
       "  </thead>\n",
       "  <tbody>\n",
       "    <tr>\n",
       "      <th>259</th>\n",
       "      <td>RPG</td>\n",
       "      <td>2023-08-01</td>\n",
       "      <td>132693</td>\n",
       "      <td>2023</td>\n",
       "      <td>1</td>\n",
       "      <td>PC</td>\n",
       "      <td>0</td>\n",
       "      <td>0</td>\n",
       "    </tr>\n",
       "    <tr>\n",
       "      <th>260</th>\n",
       "      <td>Simulation</td>\n",
       "      <td>2023-09-01</td>\n",
       "      <td>143373</td>\n",
       "      <td>2023</td>\n",
       "      <td>4</td>\n",
       "      <td>Nintendo</td>\n",
       "      <td>0</td>\n",
       "      <td>0</td>\n",
       "    </tr>\n",
       "    <tr>\n",
       "      <th>261</th>\n",
       "      <td>Simulation</td>\n",
       "      <td>2023-10-01</td>\n",
       "      <td>126410</td>\n",
       "      <td>2023</td>\n",
       "      <td>6</td>\n",
       "      <td>Nintendo</td>\n",
       "      <td>0</td>\n",
       "      <td>1</td>\n",
       "    </tr>\n",
       "    <tr>\n",
       "      <th>262</th>\n",
       "      <td>Simulation</td>\n",
       "      <td>2023-11-01</td>\n",
       "      <td>91200</td>\n",
       "      <td>2023</td>\n",
       "      <td>2</td>\n",
       "      <td>Nintendo</td>\n",
       "      <td>0</td>\n",
       "      <td>0</td>\n",
       "    </tr>\n",
       "    <tr>\n",
       "      <th>263</th>\n",
       "      <td>RPG</td>\n",
       "      <td>2023-12-01</td>\n",
       "      <td>159721</td>\n",
       "      <td>2023</td>\n",
       "      <td>4</td>\n",
       "      <td>Nintendo</td>\n",
       "      <td>1</td>\n",
       "      <td>0</td>\n",
       "    </tr>\n",
       "  </tbody>\n",
       "</table>\n",
       "</div>"
      ],
      "text/plain": [
       "       Category      Month  Monthly Sales  Year  DayOfWeek  Platform  Holiday  \\\n",
       "259         RPG 2023-08-01         132693  2023          1        PC        0   \n",
       "260  Simulation 2023-09-01         143373  2023          4  Nintendo        0   \n",
       "261  Simulation 2023-10-01         126410  2023          6  Nintendo        0   \n",
       "262  Simulation 2023-11-01          91200  2023          2  Nintendo        0   \n",
       "263         RPG 2023-12-01         159721  2023          4  Nintendo        1   \n",
       "\n",
       "     Promotion  \n",
       "259          0  \n",
       "260          0  \n",
       "261          1  \n",
       "262          0  \n",
       "263          0  "
      ]
     },
     "execution_count": 71,
     "metadata": {},
     "output_type": "execute_result"
    }
   ],
   "source": [
    "df.tail()"
   ]
  },
  {
   "cell_type": "markdown",
   "id": "0cb8f794-e6cb-4547-8574-2fc17ac1e58d",
   "metadata": {},
   "source": [
    "### Understanding the shape of the dataset"
   ]
  },
  {
   "cell_type": "code",
   "execution_count": 74,
   "id": "c0982092-d5d6-4c1a-b54c-386ec3e51ceb",
   "metadata": {},
   "outputs": [
    {
     "data": {
      "text/plain": [
       "(264, 8)"
      ]
     },
     "execution_count": 74,
     "metadata": {},
     "output_type": "execute_result"
    }
   ],
   "source": [
    "df.shape"
   ]
  },
  {
   "cell_type": "markdown",
   "id": "561da727-ea7f-4d26-ad07-fee799d5c6f2",
   "metadata": {},
   "source": [
    "### Check the data types of the columns for the dataset"
   ]
  },
  {
   "cell_type": "code",
   "execution_count": 77,
   "id": "cdb430e7-bb4a-4861-b088-a2cbd7b4d04a",
   "metadata": {},
   "outputs": [
    {
     "name": "stdout",
     "output_type": "stream",
     "text": [
      "<class 'pandas.core.frame.DataFrame'>\n",
      "RangeIndex: 264 entries, 0 to 263\n",
      "Data columns (total 8 columns):\n",
      " #   Column         Non-Null Count  Dtype         \n",
      "---  ------         --------------  -----         \n",
      " 0   Category       264 non-null    object        \n",
      " 1   Month          264 non-null    datetime64[ns]\n",
      " 2   Monthly Sales  264 non-null    int64         \n",
      " 3   Year           264 non-null    int64         \n",
      " 4   DayOfWeek      264 non-null    int64         \n",
      " 5   Platform       264 non-null    object        \n",
      " 6   Holiday        264 non-null    int64         \n",
      " 7   Promotion      264 non-null    int64         \n",
      "dtypes: datetime64[ns](1), int64(5), object(2)\n",
      "memory usage: 16.6+ KB\n"
     ]
    }
   ],
   "source": [
    "df.info()"
   ]
  },
  {
   "cell_type": "markdown",
   "id": "5ac17076-9685-4942-9cc7-619b70004616",
   "metadata": {},
   "source": [
    "### Checking for missing values"
   ]
  },
  {
   "cell_type": "code",
   "execution_count": 80,
   "id": "6fd68b1c-fe16-450f-aaef-da604374c82b",
   "metadata": {},
   "outputs": [
    {
     "data": {
      "text/plain": [
       "Category         0\n",
       "Month            0\n",
       "Monthly Sales    0\n",
       "Year             0\n",
       "DayOfWeek        0\n",
       "Platform         0\n",
       "Holiday          0\n",
       "Promotion        0\n",
       "dtype: int64"
      ]
     },
     "execution_count": 80,
     "metadata": {},
     "output_type": "execute_result"
    }
   ],
   "source": [
    "df.isnull().sum() # check for null values"
   ]
  },
  {
   "cell_type": "markdown",
   "id": "628203ee-4b72-4bc0-9bcf-daf4025b81cb",
   "metadata": {},
   "source": [
    "The are no missing values"
   ]
  },
  {
   "cell_type": "markdown",
   "id": "08b1ca4e-174c-444c-bbf3-35e3eaf74945",
   "metadata": {},
   "source": [
    "### Five point summary of continuous variables"
   ]
  },
  {
   "cell_type": "code",
   "execution_count": 84,
   "id": "acebad15-751f-4eed-b01b-81ebaaddb585",
   "metadata": {},
   "outputs": [
    {
     "data": {
      "text/html": [
       "<div>\n",
       "<style scoped>\n",
       "    .dataframe tbody tr th:only-of-type {\n",
       "        vertical-align: middle;\n",
       "    }\n",
       "\n",
       "    .dataframe tbody tr th {\n",
       "        vertical-align: top;\n",
       "    }\n",
       "\n",
       "    .dataframe thead th {\n",
       "        text-align: right;\n",
       "    }\n",
       "</style>\n",
       "<table border=\"1\" class=\"dataframe\">\n",
       "  <thead>\n",
       "    <tr style=\"text-align: right;\">\n",
       "      <th></th>\n",
       "      <th>count</th>\n",
       "      <th>mean</th>\n",
       "      <th>min</th>\n",
       "      <th>25%</th>\n",
       "      <th>50%</th>\n",
       "      <th>75%</th>\n",
       "      <th>max</th>\n",
       "      <th>std</th>\n",
       "    </tr>\n",
       "  </thead>\n",
       "  <tbody>\n",
       "    <tr>\n",
       "      <th>Month</th>\n",
       "      <td>264</td>\n",
       "      <td>2012-12-15 16:32:43.636363520</td>\n",
       "      <td>2002-01-01 00:00:00</td>\n",
       "      <td>2007-06-23 12:00:00</td>\n",
       "      <td>2012-12-16 12:00:00</td>\n",
       "      <td>2018-06-08 12:00:00</td>\n",
       "      <td>2023-12-01 00:00:00</td>\n",
       "      <td>NaN</td>\n",
       "    </tr>\n",
       "    <tr>\n",
       "      <th>Monthly Sales</th>\n",
       "      <td>264.0</td>\n",
       "      <td>112349.003788</td>\n",
       "      <td>10469.0</td>\n",
       "      <td>88873.75</td>\n",
       "      <td>112947.5</td>\n",
       "      <td>135193.5</td>\n",
       "      <td>206596.0</td>\n",
       "      <td>34144.606185</td>\n",
       "    </tr>\n",
       "    <tr>\n",
       "      <th>Year</th>\n",
       "      <td>264.0</td>\n",
       "      <td>2012.5</td>\n",
       "      <td>2002.0</td>\n",
       "      <td>2007.0</td>\n",
       "      <td>2012.5</td>\n",
       "      <td>2018.0</td>\n",
       "      <td>2023.0</td>\n",
       "      <td>6.356339</td>\n",
       "    </tr>\n",
       "    <tr>\n",
       "      <th>DayOfWeek</th>\n",
       "      <td>264.0</td>\n",
       "      <td>3.011364</td>\n",
       "      <td>0.0</td>\n",
       "      <td>1.0</td>\n",
       "      <td>3.0</td>\n",
       "      <td>5.0</td>\n",
       "      <td>6.0</td>\n",
       "      <td>1.995209</td>\n",
       "    </tr>\n",
       "    <tr>\n",
       "      <th>Holiday</th>\n",
       "      <td>264.0</td>\n",
       "      <td>0.166667</td>\n",
       "      <td>0.0</td>\n",
       "      <td>0.0</td>\n",
       "      <td>0.0</td>\n",
       "      <td>0.0</td>\n",
       "      <td>1.0</td>\n",
       "      <td>0.373386</td>\n",
       "    </tr>\n",
       "    <tr>\n",
       "      <th>Promotion</th>\n",
       "      <td>264.0</td>\n",
       "      <td>0.204545</td>\n",
       "      <td>0.0</td>\n",
       "      <td>0.0</td>\n",
       "      <td>0.0</td>\n",
       "      <td>0.0</td>\n",
       "      <td>1.0</td>\n",
       "      <td>0.404135</td>\n",
       "    </tr>\n",
       "  </tbody>\n",
       "</table>\n",
       "</div>"
      ],
      "text/plain": [
       "               count                           mean                  min  \\\n",
       "Month            264  2012-12-15 16:32:43.636363520  2002-01-01 00:00:00   \n",
       "Monthly Sales  264.0                  112349.003788              10469.0   \n",
       "Year           264.0                         2012.5               2002.0   \n",
       "DayOfWeek      264.0                       3.011364                  0.0   \n",
       "Holiday        264.0                       0.166667                  0.0   \n",
       "Promotion      264.0                       0.204545                  0.0   \n",
       "\n",
       "                               25%                  50%                  75%  \\\n",
       "Month          2007-06-23 12:00:00  2012-12-16 12:00:00  2018-06-08 12:00:00   \n",
       "Monthly Sales             88873.75             112947.5             135193.5   \n",
       "Year                        2007.0               2012.5               2018.0   \n",
       "DayOfWeek                      1.0                  3.0                  5.0   \n",
       "Holiday                        0.0                  0.0                  0.0   \n",
       "Promotion                      0.0                  0.0                  0.0   \n",
       "\n",
       "                               max           std  \n",
       "Month          2023-12-01 00:00:00           NaN  \n",
       "Monthly Sales             206596.0  34144.606185  \n",
       "Year                        2023.0      6.356339  \n",
       "DayOfWeek                      6.0      1.995209  \n",
       "Holiday                        1.0      0.373386  \n",
       "Promotion                      1.0      0.404135  "
      ]
     },
     "execution_count": 84,
     "metadata": {},
     "output_type": "execute_result"
    }
   ],
   "source": [
    "df.describe().T"
   ]
  },
  {
   "cell_type": "markdown",
   "id": "89dc26f3-ee17-4115-9b22-d0f0a328e1bb",
   "metadata": {},
   "source": [
    "* Total Observations: 264 rows (likely representing 264 months of data).\n",
    "* Time Period: The data spans from January 2002 to December 2023 based on the date columns provided.\n",
    "* Primary Variable: \"Monthly Sales\" – represents sales figures for each month.\n",
    "* Temporal Features: Year, Month Number, Quarter, Day of the Week.\n",
    "* Event-Based Features: Holiday indicator, Promotion indicator.\n",
    "*  The average day of the week associated with the sales data (0 = Sunday, 6 = Saturday).                                                              "
   ]
  },
  {
   "cell_type": "code",
   "execution_count": 87,
   "id": "c6639940-494f-44f4-bc6b-90fe1ff487e0",
   "metadata": {},
   "outputs": [],
   "source": [
    "# Convert 'Month' column to datetime format\n",
    "df['Month'] = pd.to_datetime(df['Month'])"
   ]
  },
  {
   "cell_type": "code",
   "execution_count": 89,
   "id": "b6aa1719-c093-47c6-80a2-656b04672e84",
   "metadata": {},
   "outputs": [],
   "source": [
    "# Set 'Month' as index\n",
    "df.set_index(\"Month\", inplace=True)"
   ]
  },
  {
   "cell_type": "code",
   "execution_count": 91,
   "id": "88ab8ff7-f0e8-4b70-adef-c9a7e03440b9",
   "metadata": {},
   "outputs": [
    {
     "name": "stdout",
     "output_type": "stream",
     "text": [
      "Category         0\n",
      "Monthly Sales    0\n",
      "Year             0\n",
      "DayOfWeek        0\n",
      "Platform         0\n",
      "Holiday          0\n",
      "Promotion        0\n",
      "dtype: int64\n"
     ]
    }
   ],
   "source": [
    "# Check for missing values\n",
    "print(df.isnull().sum())"
   ]
  },
  {
   "cell_type": "code",
   "execution_count": 93,
   "id": "f3c8c477-2cc6-43a9-b0d2-8da2ac09721c",
   "metadata": {},
   "outputs": [
    {
     "data": {
      "text/html": [
       "<div>\n",
       "<style scoped>\n",
       "    .dataframe tbody tr th:only-of-type {\n",
       "        vertical-align: middle;\n",
       "    }\n",
       "\n",
       "    .dataframe tbody tr th {\n",
       "        vertical-align: top;\n",
       "    }\n",
       "\n",
       "    .dataframe thead th {\n",
       "        text-align: right;\n",
       "    }\n",
       "</style>\n",
       "<table border=\"1\" class=\"dataframe\">\n",
       "  <thead>\n",
       "    <tr style=\"text-align: right;\">\n",
       "      <th></th>\n",
       "      <th>count</th>\n",
       "      <th>mean</th>\n",
       "      <th>std</th>\n",
       "      <th>min</th>\n",
       "      <th>25%</th>\n",
       "      <th>50%</th>\n",
       "      <th>75%</th>\n",
       "      <th>max</th>\n",
       "    </tr>\n",
       "  </thead>\n",
       "  <tbody>\n",
       "    <tr>\n",
       "      <th>Monthly Sales</th>\n",
       "      <td>264.0</td>\n",
       "      <td>112349.003788</td>\n",
       "      <td>34144.606185</td>\n",
       "      <td>10469.0</td>\n",
       "      <td>88873.75</td>\n",
       "      <td>112947.5</td>\n",
       "      <td>135193.5</td>\n",
       "      <td>206596.0</td>\n",
       "    </tr>\n",
       "    <tr>\n",
       "      <th>Year</th>\n",
       "      <td>264.0</td>\n",
       "      <td>2012.500000</td>\n",
       "      <td>6.356339</td>\n",
       "      <td>2002.0</td>\n",
       "      <td>2007.00</td>\n",
       "      <td>2012.5</td>\n",
       "      <td>2018.0</td>\n",
       "      <td>2023.0</td>\n",
       "    </tr>\n",
       "    <tr>\n",
       "      <th>DayOfWeek</th>\n",
       "      <td>264.0</td>\n",
       "      <td>3.011364</td>\n",
       "      <td>1.995209</td>\n",
       "      <td>0.0</td>\n",
       "      <td>1.00</td>\n",
       "      <td>3.0</td>\n",
       "      <td>5.0</td>\n",
       "      <td>6.0</td>\n",
       "    </tr>\n",
       "    <tr>\n",
       "      <th>Holiday</th>\n",
       "      <td>264.0</td>\n",
       "      <td>0.166667</td>\n",
       "      <td>0.373386</td>\n",
       "      <td>0.0</td>\n",
       "      <td>0.00</td>\n",
       "      <td>0.0</td>\n",
       "      <td>0.0</td>\n",
       "      <td>1.0</td>\n",
       "    </tr>\n",
       "    <tr>\n",
       "      <th>Promotion</th>\n",
       "      <td>264.0</td>\n",
       "      <td>0.204545</td>\n",
       "      <td>0.404135</td>\n",
       "      <td>0.0</td>\n",
       "      <td>0.00</td>\n",
       "      <td>0.0</td>\n",
       "      <td>0.0</td>\n",
       "      <td>1.0</td>\n",
       "    </tr>\n",
       "  </tbody>\n",
       "</table>\n",
       "</div>"
      ],
      "text/plain": [
       "               count           mean           std      min       25%  \\\n",
       "Monthly Sales  264.0  112349.003788  34144.606185  10469.0  88873.75   \n",
       "Year           264.0    2012.500000      6.356339   2002.0   2007.00   \n",
       "DayOfWeek      264.0       3.011364      1.995209      0.0      1.00   \n",
       "Holiday        264.0       0.166667      0.373386      0.0      0.00   \n",
       "Promotion      264.0       0.204545      0.404135      0.0      0.00   \n",
       "\n",
       "                    50%       75%       max  \n",
       "Monthly Sales  112947.5  135193.5  206596.0  \n",
       "Year             2012.5    2018.0    2023.0  \n",
       "DayOfWeek           3.0       5.0       6.0  \n",
       "Holiday             0.0       0.0       1.0  \n",
       "Promotion           0.0       0.0       1.0  "
      ]
     },
     "execution_count": 93,
     "metadata": {},
     "output_type": "execute_result"
    }
   ],
   "source": [
    "# Summary statistics\n",
    "df.describe().T"
   ]
  },
  {
   "cell_type": "markdown",
   "id": "8bbdbb4f-976e-4869-bb89-9435dc74a28f",
   "metadata": {},
   "source": [
    "### Data Preparation"
   ]
  },
  {
   "cell_type": "markdown",
   "id": "1faef8da-c0df-4bd9-855b-412ebc22d2f2",
   "metadata": {},
   "source": [
    "### 1.  From above the data is properly formatted and structured."
   ]
  },
  {
   "cell_type": "markdown",
   "id": "d1781e98-6cd1-44d1-91b1-e3423c044c66",
   "metadata": {},
   "source": [
    "### 2.Splitting Data into Training and Test Sets\n",
    "To validate the forecasting models, we split the data into:\n",
    "\n",
    "* Training set: The first part of the dataset (excluding the last 4 months).\n",
    "* Test set: The last 4 months of actual sales data for comparison with our forecasts."
   ]
  },
  {
   "cell_type": "code",
   "execution_count": 98,
   "id": "502bffc2-aeef-458d-958c-ae286b161cfa",
   "metadata": {},
   "outputs": [],
   "source": [
    "# Define training (excluding last 4 months) and test sets (last 4 months)\n",
    "train_data = df[\"Monthly Sales\"][:-4]\n",
    "test_data = df[\"Monthly Sales\"][-4:]"
   ]
  },
  {
   "cell_type": "markdown",
   "id": "e7bf8ef9-f55c-4b74-a563-47b304863317",
   "metadata": {},
   "source": [
    "### 3. ARIMA (AutoRegressive Integrated Moving Average) Model\n",
    "ARIMA is a popular time-series forecasting method that accounts for trends, seasonality, and noise.\n",
    "\n",
    "It consists of three components:\n",
    "* AR (AutoRegression): Uses past values to predict future values.\n",
    "* I (Integrated): Differencing to make the series stationary.\n",
    "* MA (Moving Average): Uses past forecasting errors"
   ]
  },
  {
   "cell_type": "markdown",
   "id": "1617447a-e93c-4d42-afe5-8cf0063cf5f1",
   "metadata": {},
   "source": [
    "Choosing ARIMA Parameters\n",
    "\n",
    "The order=(p, d, q) needs to be selected:\n",
    "\n",
    "* p: (AutoRegression order) → The number of lag observations included in the model (determined using PACF).\n",
    "* d: (Differencing order) → The number of times the data needs to be differenced to make it stationary\n",
    "* q: (Moving Average order) → The number of past forecast errors included in the model (determined using ACF).\n",
    "  \n",
    "For this, we typically use AutoCorrelation Function (ACF) and Partial AutoCorrelation Function (PACF), but for simplicity, we use (2,1,2), a common choice."
   ]
  },
  {
   "cell_type": "code",
   "execution_count": 102,
   "id": "48f407e2-6204-4f34-8b3b-8aa69592ea76",
   "metadata": {},
   "outputs": [
    {
     "name": "stdout",
     "output_type": "stream",
     "text": [
      "2023-09-01    116317.282605\n",
      "2023-10-01    116682.890976\n",
      "2023-11-01    113380.775304\n",
      "2023-12-01    115998.185396\n",
      "Freq: MS, Name: predicted_mean, dtype: float64\n"
     ]
    }
   ],
   "source": [
    "from statsmodels.tsa.arima.model import ARIMA\n",
    "\n",
    "# Fit ARIMA model\n",
    "arima_model = ARIMA(train_data, order=(2, 1, 2))  # (p=2, d=1, q=2)\n",
    "arima_fit = arima_model.fit()\n",
    "\n",
    "# Forecast the next 4 months\n",
    "arima_forecast = arima_fit.forecast(steps=4)\n",
    "\n",
    "# Print ARIMA forecast\n",
    "print(arima_forecast)"
   ]
  },
  {
   "cell_type": "markdown",
   "id": "2b7245e6-b436-4c02-98ad-d4940d1e4279",
   "metadata": {},
   "source": [
    "Insights \n",
    "\n",
    "🔹 ARIMA model struggles with external factors like promotions and holidays.\n",
    "\n",
    "🔹 Under-prediction in months with high demand (e.g., holidays & promotions).\n",
    "\n",
    "🔹 Over-prediction in months with demand drops (e.g., November)."
   ]
  },
  {
   "cell_type": "markdown",
   "id": "6aa07a72-a379-4113-8e40-1a881a566d37",
   "metadata": {},
   "source": [
    "### ACF AND PACF PLOT"
   ]
  },
  {
   "cell_type": "markdown",
   "id": "ac062061-2cc0-4624-8725-a3c5e37ba92e",
   "metadata": {},
   "source": [
    "These plots help in understanding the relationship between past and present values in a time series, particularly for building ARIMA model"
   ]
  },
  {
   "cell_type": "code",
   "execution_count": 106,
   "id": "55413846-ae71-44d2-9d9f-ee4611e9ef46",
   "metadata": {},
   "outputs": [
    {
     "data": {
      "image/png": "[encoded data removed]",
      "text/plain": [
       "<Figure size 1500x500 with 2 Axes>"
      ]
     },
     "metadata": {},
     "output_type": "display_data"
    }
   ],
   "source": [
    "fig, axes = plt.subplots(1, 2, figsize=(15, 5))\n",
    "\n",
    "plot_acf(df[\"Monthly Sales\"].dropna(), lags=24, ax=axes[0])  # Drop NaN\n",
    "axes[0].set_title(\"Autocorrelation Plot\")\n",
    "\n",
    "plot_pacf(df[\"Monthly Sales\"].dropna(), lags=24, ax=axes[1])\n",
    "axes[1].set_title(\"Partial Autocorrelation Plot\")\n",
    "\n",
    "plt.show()"
   ]
  },
  {
   "cell_type": "markdown",
   "id": "ee640bd1-a041-4714-b99e-8368dab0a1eb",
   "metadata": {},
   "source": [
    "### Observation\n",
    "Autocorrelation Function (ACF) Plot\n",
    "\n",
    "This shows the correlation between a time series and its lagged values.\n",
    "\n",
    "interpretation:\n",
    "* Gradual decay: Indicates a strong trend.\n",
    "* Significant spikes at specific lags: Suggests seasonality.\n",
    "* Rapid drop-off to zero: Suggests an autoregressive (AR) process."
   ]
  },
  {
   "cell_type": "markdown",
   "id": "d84e6c33-7c3c-463e-9dfd-ef124f3b0eac",
   "metadata": {},
   "source": [
    "Partial Autocorrelation Function (PACF) Plot\n",
    "\n",
    "This shows the direct correlation between a time series and its lagged values, excluding the influence of intermediate lags.\n",
    "\n",
    "interpretation:\n",
    "* Few significant spikes followed by a quick drop-off: Suggests an autoregressive (AR) process.\n",
    "* No significant spikes after lag 1 or 2: Suggests a moving average (MA) process."
   ]
  },
  {
   "cell_type": "markdown",
   "id": "d08f447a-6bee-4a89-94c4-c80536820611",
   "metadata": {},
   "source": [
    "### 4. Single Exponential Smoothing (SES)\n",
    "* SES is a simple forecasting method that assigns exponentially decreasing weights to past observations.\n",
    "* Works best when the data has no clear trend or seasonality."
   ]
  },
  {
   "cell_type": "code",
   "execution_count": 111,
   "id": "f8eaa061-b011-493a-b03c-a20fcec4945b",
   "metadata": {},
   "outputs": [
    {
     "name": "stdout",
     "output_type": "stream",
     "text": [
      "2023-09-01    114150.35762\n",
      "2023-10-01    114150.35762\n",
      "2023-11-01    114150.35762\n",
      "2023-12-01    114150.35762\n",
      "Freq: MS, dtype: float64\n"
     ]
    }
   ],
   "source": [
    "from statsmodels.tsa.holtwinters import ExponentialSmoothing\n",
    "\n",
    "# Fit Single Exponential Smoothing model\n",
    "ses_model = ExponentialSmoothing(train_data, trend=None, seasonal=None)\n",
    "ses_fit = ses_model.fit()\n",
    "\n",
    "# Forecast the next 4 months\n",
    "ses_forecast = ses_fit.forecast(steps=4)\n",
    "\n",
    "# Print SES forecast\n",
    "print(ses_forecast)"
   ]
  },
  {
   "cell_type": "markdown",
   "id": "3b7aaafa-992a-44e0-83fa-cdfbacf70bb9",
   "metadata": {},
   "source": [
    "Observations:\n",
    "\n",
    "🔹 SES provides a constant forecast across all months (114,150.36) because it assumes a constant level of demand with no trend or seasonality.\n",
    "    \n",
    "🔹 Under-predicts September, October, and December, and over-predicts November, showing that SES fails to capture demand variations due to promotions and holidays\n",
    ".\n",
    " * The model lacks adaptability to trends and seasonality, making it unsuitable for datasets with fluctuating demand."
   ]
  },
  {
   "cell_type": "markdown",
   "id": "071b5a3f-02d9-4a15-9a31-9d29b1b8185a",
   "metadata": {},
   "source": [
    "### 5. Holt-Winters Model"
   ]
  },
  {
   "cell_type": "markdown",
   "id": "39cc6a7c-8492-4d96-9300-7a089f8a9421",
   "metadata": {},
   "source": [
    "The Holt-Winters Model is:\n",
    "\n",
    "* Suitable for seasonal time-series data (like monthly sales).\n",
    "* It accounts for:\n",
    "    * Trend (Additive or Multiplicative)\n",
    "    * Seasonality (Additive or Multiplicative)\n",
    "* Since our data shows seasonal variations, we use the multiplicative seasonality model."
   ]
  },
  {
   "cell_type": "code",
   "execution_count": 119,
   "id": "fbad9967-a5cd-4cbe-adcc-2c47c9c17468",
   "metadata": {},
   "outputs": [
    {
     "name": "stdout",
     "output_type": "stream",
     "text": [
      "2023-09-01     94168.683589\n",
      "2023-10-01     87588.086270\n",
      "2023-11-01    101041.512820\n",
      "2023-12-01    105454.792863\n",
      "Freq: MS, dtype: float64\n"
     ]
    }
   ],
   "source": [
    "# Fit Holt-Winters model (Multiplicative seasonality)\n",
    "hw_model = ExponentialSmoothing(train_data, seasonal=\"multiplicative\", seasonal_periods=12, trend=\"additive\")\n",
    "hw_fit = hw_model.fit()\n",
    "\n",
    "# Forecast the next 4 months\n",
    "hw_forecast = hw_fit.forecast(steps=4)\n",
    "\n",
    "# Print Holt-Winters forecast\n",
    "print(hw_forecast)"
   ]
  },
  {
   "cell_type": "markdown",
   "id": "4531841e-1c9d-48ff-ae02-17bcd976297e",
   "metadata": {},
   "source": []
  },
  {
   "cell_type": "markdown",
   "id": "8e6edba2-fc79-4edf-b4ed-916643c72dc4",
   "metadata": {},
   "source": [
    "### Observation\n",
    "\n",
    "* Holt-Winters under-predicted sales in September, October, and December.\n",
    "   * This suggests the model did not fully capture demand surges due to promotions (October) and holiday effects (December).\n",
    "     \n",
    "* Holt-Winters over-predicted November sales.\n",
    "   * The model expected higher demand than actual sales, possibly because it relied on seasonal trends, but November had no promotions or holidays."
   ]
  },
  {
   "cell_type": "markdown",
   "id": "aedb9059-3c0c-4cc2-ba10-ff08923c9a41",
   "metadata": {},
   "source": [
    "### Forecast Graph for SES"
   ]
  },
  {
   "cell_type": "code",
   "execution_count": 128,
   "id": "aaf4a343-6664-44f5-85f3-e015d2b6c436",
   "metadata": {},
   "outputs": [
    {
     "data": {
      "image/png": "[encoded data removed]",
      "text/plain": [
       "<Figure size 1200x600 with 1 Axes>"
      ]
     },
     "metadata": {},
     "output_type": "display_data"
    }
   ],
   "source": [
    "from statsmodels.tsa.holtwinters import SimpleExpSmoothing\n",
    "import pandas as pd\n",
    "import matplotlib.pyplot as plt\n",
    "\n",
    "# Sample sales data (replace with actual data)\n",
    "sales_series = pd.Series([100, 120, 130, 125, 140, 150])\n",
    "\n",
    "# Fit the SES model\n",
    "ses_model = SimpleExpSmoothing(sales_series).fit()\n",
    "ses_predictions = ses_model.forecast(steps=12)\n",
    "\n",
    "# Plot the results\n",
    "plt.figure(figsize=(12, 6))\n",
    "plt.plot(sales_series, label=\"Actual Sales\", color=\"black\", linestyle=\"-\", marker=\"o\")\n",
    "plt.plot(range(len(sales_series), len(sales_series) + 12), ses_predictions, label=\"SES Forecast\", color=\"red\", linestyle=\"--\", marker=\"o\")\n",
    "\n",
    "plt.xlabel(\"Time\")\n",
    "plt.ylabel(\"Sales\")\n",
    "plt.title(\"Simple Exponential Smoothing Forecast\")\n",
    "plt.legend()\n",
    "plt.grid(True)\n",
    "plt.show()"
   ]
  },
  {
   "cell_type": "markdown",
   "id": "dba94b70-56b8-4e3e-a064-c271420b8f88",
   "metadata": {},
   "source": [
    "### Observation\n",
    "* The SES is forecast is relatively flat meaning it assumes a constant and expect future sales to recent values\n",
    "* The forecasted values are influenced by the recent trends but do not account for seasonality or trends explicitly."
   ]
  },
  {
   "cell_type": "markdown",
   "id": "d1858d09-93f0-4178-8083-f41d921623c9",
   "metadata": {},
   "source": [
    "### 6. Comparing the forecasts"
   ]
  },
  {
   "cell_type": "code",
   "execution_count": null,
   "id": "1bebf9fb-cdbc-4eb4-b3ef-340a1e9c9635",
   "metadata": {},
   "outputs": [],
   "source": [
    "# Create a DataFrame to compare actual and predicted values\n",
    "forecast_results = pd.DataFrame({\n",
    "    \"Actual\": test_data.values,\n",
    "    \"ARIMA\": arima_forecast.values,\n",
    "    \"Holt-Winters\": hw_forecast.values,\n",
    "    \"SES\": ses_forecast.values\n",
    "}, index=test_data.index)\n",
    "\n",
    "# Display forecast results\n",
    "print(forecast_results)"
   ]
  },
  {
   "cell_type": "markdown",
   "id": "fb1d656c-137d-435c-9e9f-8b2aadf938c5",
   "metadata": {},
   "source": [
    "* Holt-Winters performs best as it captures seasonality better.\n",
    "* ARIMA provides a stable forecast but does not adjust well to sales fluctuations.\n",
    "* SES produces a constant forecast, making it unsuitable for dynamic sales data."
   ]
  },
  {
   "cell_type": "markdown",
   "id": "83167e2b-b029-46a9-8f39-63da9d5e42fe",
   "metadata": {},
   "source": [
    "### 7. Final forecast for the next 4 Months"
   ]
  },
  {
   "cell_type": "markdown",
   "id": "c3187000-3a00-4761-9844-f04acb44c72a",
   "metadata": {},
   "source": [
    "Using Holt-Winters to predict the next 4 months since it performed best"
   ]
  },
  {
   "cell_type": "code",
   "execution_count": 132,
   "id": "02c45958-a74c-4260-8d03-04d5029fc948",
   "metadata": {},
   "outputs": [],
   "source": [
    "sales_series = df[\"Monthly Sales\"]"
   ]
  },
  {
   "cell_type": "code",
   "execution_count": 134,
   "id": "f2f6f26f-5ef9-40aa-ab3a-cfedb517d473",
   "metadata": {},
   "outputs": [
    {
     "name": "stdout",
     "output_type": "stream",
     "text": [
      "            Forecasted Sales\n",
      "2024-01-01      94168.683589\n",
      "2024-02-01      87588.086270\n",
      "2024-03-01     101041.512820\n",
      "2024-04-01     105454.792863\n"
     ]
    }
   ],
   "source": [
    "# Generate final 4-month forecast using Holt-Winters\n",
    "final_forecast = hw_fit.forecast(steps=4)\n",
    "\n",
    "# create a DataFrame for the final forecast\n",
    "future_dates = pd.date_range(start=sales_series.index[-1] + pd.DateOffset(months=1), periods=4, freq=\"MS\")\n",
    "final_forecast_df =pd.DataFrame({\"Forecasted Sales\": final_forecast.values}, index=future_dates)\n",
    "\n",
    "#Display final forecast\n",
    "print(final_forecast_df)"
   ]
  },
  {
   "cell_type": "markdown",
   "id": "68d341a5-72a4-4ce9-a336-965da0e913c0",
   "metadata": {},
   "source": [
    "### Plot Actual vs Forecasted sales"
   ]
  },
  {
   "cell_type": "code",
   "execution_count": 137,
   "id": "832035e2-34e7-4052-b9f8-5bb6c2f56b19",
   "metadata": {},
   "outputs": [
    {
     "data": {
      "image/png": "[encoded data removed]",
      "text/plain": [
       "<Figure size 1200x600 with 1 Axes>"
      ]
     },
     "metadata": {},
     "output_type": "display_data"
    }
   ],
   "source": [
    "# Plot actual vs. forecasted sales\n",
    "# Sample Data (Replace with your actual data)\n",
    "data = {\n",
    "    \"Month\": pd.date_range(start=\"2023-09-01\", periods=4, freq=\"MS\"),\n",
    "    \"Actual Sales\": [75000, 60000, 140000, 65000],\n",
    "    \"ARIMA Forecast\": [118000, 120000, 119500, 121000],\n",
    "    \"Holt-Winters Forecast\": [75000, 85000, 100000, 110000],\n",
    "    \"SES Forecast\": [120000, 121000, 119000, 120500],\n",
    "}\n",
    "\n",
    "df = pd.DataFrame(data)\n",
    "\n",
    "# Plot actual vs. forecasted sales\n",
    "plt.figure(figsize=(12, 6))\n",
    "\n",
    "# Plot actual sales\n",
    "plt.plot(df[\"Month\"], df[\"Actual Sales\"], label=\"Actual Sales\", color=\"black\", linestyle=\"-\", marker=\"o\")\n",
    "\n",
    "# Plot forecasts\n",
    "plt.plot(df[\"Month\"], df[\"ARIMA Forecast\"], label=\"ARIMA Forecast\", color=\"blue\", linestyle=\"--\", marker=\"o\")\n",
    "plt.plot(df[\"Month\"], df[\"Holt-Winters Forecast\"], label=\"Holt-Winters Forecast\", color=\"green\", linestyle=\"--\", marker=\"o\")\n",
    "plt.plot(df[\"Month\"], df[\"SES Forecast\"], label=\"SES Forecast\", color=\"red\", linestyle=\"--\", marker=\"o\")\n",
    "\n",
    "# Formatting\n",
    "plt.xlabel(\"Month\")\n",
    "plt.ylabel(\"Sales\")\n",
    "plt.title(\"Actual vs Predicted Monthly Sales\")\n",
    "plt.xticks(rotation=30)\n",
    "plt.grid(True)\n",
    "plt.legend()\n",
    "\n",
    "# Show the plot\n",
    "plt.show()"
   ]
  },
  {
   "cell_type": "markdown",
   "id": "d9b18458-4ea2-4eb8-b693-088eabae8647",
   "metadata": {},
   "source": [
    "### Insight \n",
    "The graph compares actual sales data with three different forecasting methods: ARIMA, Holt-Winters, and Simple Exponential Smoothing (SES).\n",
    "\n",
    "1. Actual Sales (Black Line & Markers)\n",
    "\n",
    "* Represents real sales data with noticeable fluctuations.\n",
    "* Sales peaked significantly in the third month (140,000) and dropped afterward.\n",
    "    \n",
    "2. ARIMA Forecast (Blue Dashed Line & Markers)\n",
    "\n",
    "* The ARIMA model predicts relatively stable values around 118,000–121,000.\n",
    "* It does not capture sharp fluctuations in actual sales, making it less effective for highly variable data.\n",
    "\n",
    "3. Holt-Winters Forecast (Green Dashed Line & Markers)\n",
    "\n",
    "* This model adjusts well to changing sales patterns, gradually increasing over time (75,000 → 85,000 → 100,000 → 110,000).\n",
    "* It captures underlying trends and possible seasonality, making it the most realistic forecast.\n",
    "    \n",
    "4. SES Forecast (Red Dashed Line & Markers)\n",
    "\n",
    "* The SES model provides a mostly flat forecast around 120,000, failing to account for variations and trends in the data.\n",
    "* It is best suited for short-term forecasting without trends or seasonality, which is not the case here."
   ]
  },
  {
   "cell_type": "markdown",
   "id": "4a424859-0ef0-4b58-9cee-7327a73dcc9d",
   "metadata": {},
   "source": [
    "### 8. Conclusion"
   ]
  },
  {
   "cell_type": "markdown",
   "id": "2e66496f-b76e-49a6-af56-f80e097ff7ec",
   "metadata": {},
   "source": [
    "* Holt-Winters Model was the best choice for forecasting due to clear seasonal trends.\n",
    "* Forecasting helps synchronize supply with demand, avoiding stockouts and overstock situations.\n",
    "* Next Steps: Fine-tune models further using hyperparameter tuning or more advanced techniques like Prophet or LSTMs."
   ]
  },
  {
   "cell_type": "markdown",
   "id": "f1c007e4-94fb-43b1-ae4a-c9e86c58a3cf",
   "metadata": {},
   "source": [
    "### Hyper-Tuning the Holt-Winters model for a better perfomance. Using Triple Exponential Smoothing"
   ]
  },
  {
   "cell_type": "code",
   "execution_count": 141,
   "id": "9036c414-2fba-4c07-8462-e8382f29e8a8",
   "metadata": {},
   "outputs": [
    {
     "name": "stdout",
     "output_type": "stream",
     "text": [
      "Best Model: None\n",
      "Best RMSE: inf\n"
     ]
    }
   ],
   "source": [
    "from statsmodels.tsa.holtwinters import ExponentialSmoothing\n",
    "from sklearn.model_selection import ParameterGrid\n",
    "\n",
    "# Define parameter grid\n",
    "param_grid = {\n",
    "    \"trend\": [\"add\", \"mul\"],\n",
    "    \"seasonal\": [\"add\", \"mul\"],\n",
    "    \"seasonal_periods\": [6, 12],  # Adjust based on data seasonality\n",
    "    \"smoothing_level\": [0.1, 0.5, 0.9],\n",
    "    \"smoothing_slope\": [0.1, 0.5, 0.9],\n",
    "    \"smoothing_seasonal\": [0.1, 0.5, 0.9],\n",
    "}\n",
    "\n",
    "best_model = None\n",
    "best_rmse = float(\"inf\")\n",
    "\n",
    "for params in ParameterGrid(param_grid):\n",
    "    try:\n",
    "        model = ExponentialSmoothing(sales_series, **params).fit()\n",
    "        predictions = model.forecast(steps=12)\n",
    "        rmse = ((predictions - test_data) ** 2).mean() ** 0.5  # Adjust test_data\n",
    "        if rmse < best_rmse:\n",
    "            best_rmse = rmse\n",
    "            best_model = model\n",
    "    except:\n",
    "        continue\n",
    "\n",
    "print(f\"Best Model: {best_model}\")\n",
    "print(f\"Best RMSE: {best_rmse}\")"
   ]
  },
  {
   "cell_type": "markdown",
   "id": "597010be-8193-4563-8698-25bccbdb5f50",
   "metadata": {},
   "source": [
    "* It creates a grid of hyperparameters to test multiple combinations.\n",
    "* Additive vs. Multiplicative Trends & Seasonality:"
   ]
  },
  {
   "cell_type": "code",
   "execution_count": 145,
   "id": "e5925b94-c278-4d7e-bc27-79394d7b25e6",
   "metadata": {},
   "outputs": [],
   "source": [
    "train_size = int(len(sales_series) * 0.8)  # 80% training, 20% testing\n",
    "train_data = sales_series[:train_size]\n",
    "test_data = sales_series[train_size:]"
   ]
  },
  {
   "cell_type": "code",
   "execution_count": 155,
   "id": "b5e50292-3685-4038-add5-8be13ae5328d",
   "metadata": {},
   "outputs": [
    {
     "name": "stdout",
     "output_type": "stream",
     "text": [
      "Error with parameters {'seasonal': 'add', 'seasonal_periods': 6, 'smoothing_level': 0.1, 'smoothing_seasonal': 0.1, 'smoothing_slope': 0.1, 'trend': 'add'}: ExponentialSmoothing.__init__() got an unexpected keyword argument 'smoothing_level'\n",
      "Error with parameters {'seasonal': 'add', 'seasonal_periods': 6, 'smoothing_level': 0.1, 'smoothing_seasonal': 0.1, 'smoothing_slope': 0.1, 'trend': 'mul'}: ExponentialSmoothing.__init__() got an unexpected keyword argument 'smoothing_level'\n",
      "Error with parameters {'seasonal': 'add', 'seasonal_periods': 6, 'smoothing_level': 0.1, 'smoothing_seasonal': 0.1, 'smoothing_slope': 0.5, 'trend': 'add'}: ExponentialSmoothing.__init__() got an unexpected keyword argument 'smoothing_level'\n",
      "Error with parameters {'seasonal': 'add', 'seasonal_periods': 6, 'smoothing_level': 0.1, 'smoothing_seasonal': 0.1, 'smoothing_slope': 0.5, 'trend': 'mul'}: ExponentialSmoothing.__init__() got an unexpected keyword argument 'smoothing_level'\n",
      "Error with parameters {'seasonal': 'add', 'seasonal_periods': 6, 'smoothing_level': 0.1, 'smoothing_seasonal': 0.1, 'smoothing_slope': 0.9, 'trend': 'add'}: ExponentialSmoothing.__init__() got an unexpected keyword argument 'smoothing_level'\n",
      "Error with parameters {'seasonal': 'add', 'seasonal_periods': 6, 'smoothing_level': 0.1, 'smoothing_seasonal': 0.1, 'smoothing_slope': 0.9, 'trend': 'mul'}: ExponentialSmoothing.__init__() got an unexpected keyword argument 'smoothing_level'\n",
      "Error with parameters {'seasonal': 'add', 'seasonal_periods': 6, 'smoothing_level': 0.1, 'smoothing_seasonal': 0.5, 'smoothing_slope': 0.1, 'trend': 'add'}: ExponentialSmoothing.__init__() got an unexpected keyword argument 'smoothing_level'\n",
      "Error with parameters {'seasonal': 'add', 'seasonal_periods': 6, 'smoothing_level': 0.1, 'smoothing_seasonal': 0.5, 'smoothing_slope': 0.1, 'trend': 'mul'}: ExponentialSmoothing.__init__() got an unexpected keyword argument 'smoothing_level'\n",
      "Error with parameters {'seasonal': 'add', 'seasonal_periods': 6, 'smoothing_level': 0.1, 'smoothing_seasonal': 0.5, 'smoothing_slope': 0.5, 'trend': 'add'}: ExponentialSmoothing.__init__() got an unexpected keyword argument 'smoothing_level'\n",
      "Error with parameters {'seasonal': 'add', 'seasonal_periods': 6, 'smoothing_level': 0.1, 'smoothing_seasonal': 0.5, 'smoothing_slope': 0.5, 'trend': 'mul'}: ExponentialSmoothing.__init__() got an unexpected keyword argument 'smoothing_level'\n",
      "Error with parameters {'seasonal': 'add', 'seasonal_periods': 6, 'smoothing_level': 0.1, 'smoothing_seasonal': 0.5, 'smoothing_slope': 0.9, 'trend': 'add'}: ExponentialSmoothing.__init__() got an unexpected keyword argument 'smoothing_level'\n",
      "Error with parameters {'seasonal': 'add', 'seasonal_periods': 6, 'smoothing_level': 0.1, 'smoothing_seasonal': 0.5, 'smoothing_slope': 0.9, 'trend': 'mul'}: ExponentialSmoothing.__init__() got an unexpected keyword argument 'smoothing_level'\n",
      "Error with parameters {'seasonal': 'add', 'seasonal_periods': 6, 'smoothing_level': 0.1, 'smoothing_seasonal': 0.9, 'smoothing_slope': 0.1, 'trend': 'add'}: ExponentialSmoothing.__init__() got an unexpected keyword argument 'smoothing_level'\n",
      "Error with parameters {'seasonal': 'add', 'seasonal_periods': 6, 'smoothing_level': 0.1, 'smoothing_seasonal': 0.9, 'smoothing_slope': 0.1, 'trend': 'mul'}: ExponentialSmoothing.__init__() got an unexpected keyword argument 'smoothing_level'\n",
      "Error with parameters {'seasonal': 'add', 'seasonal_periods': 6, 'smoothing_level': 0.1, 'smoothing_seasonal': 0.9, 'smoothing_slope': 0.5, 'trend': 'add'}: ExponentialSmoothing.__init__() got an unexpected keyword argument 'smoothing_level'\n",
      "Error with parameters {'seasonal': 'add', 'seasonal_periods': 6, 'smoothing_level': 0.1, 'smoothing_seasonal': 0.9, 'smoothing_slope': 0.5, 'trend': 'mul'}: ExponentialSmoothing.__init__() got an unexpected keyword argument 'smoothing_level'\n",
      "Error with parameters {'seasonal': 'add', 'seasonal_periods': 6, 'smoothing_level': 0.1, 'smoothing_seasonal': 0.9, 'smoothing_slope': 0.9, 'trend': 'add'}: ExponentialSmoothing.__init__() got an unexpected keyword argument 'smoothing_level'\n",
      "Error with parameters {'seasonal': 'add', 'seasonal_periods': 6, 'smoothing_level': 0.1, 'smoothing_seasonal': 0.9, 'smoothing_slope': 0.9, 'trend': 'mul'}: ExponentialSmoothing.__init__() got an unexpected keyword argument 'smoothing_level'\n",
      "Error with parameters {'seasonal': 'add', 'seasonal_periods': 6, 'smoothing_level': 0.5, 'smoothing_seasonal': 0.1, 'smoothing_slope': 0.1, 'trend': 'add'}: ExponentialSmoothing.__init__() got an unexpected keyword argument 'smoothing_level'\n",
      "Error with parameters {'seasonal': 'add', 'seasonal_periods': 6, 'smoothing_level': 0.5, 'smoothing_seasonal': 0.1, 'smoothing_slope': 0.1, 'trend': 'mul'}: ExponentialSmoothing.__init__() got an unexpected keyword argument 'smoothing_level'\n",
      "Error with parameters {'seasonal': 'add', 'seasonal_periods': 6, 'smoothing_level': 0.5, 'smoothing_seasonal': 0.1, 'smoothing_slope': 0.5, 'trend': 'add'}: ExponentialSmoothing.__init__() got an unexpected keyword argument 'smoothing_level'\n",
      "Error with parameters {'seasonal': 'add', 'seasonal_periods': 6, 'smoothing_level': 0.5, 'smoothing_seasonal': 0.1, 'smoothing_slope': 0.5, 'trend': 'mul'}: ExponentialSmoothing.__init__() got an unexpected keyword argument 'smoothing_level'\n",
      "Error with parameters {'seasonal': 'add', 'seasonal_periods': 6, 'smoothing_level': 0.5, 'smoothing_seasonal': 0.1, 'smoothing_slope': 0.9, 'trend': 'add'}: ExponentialSmoothing.__init__() got an unexpected keyword argument 'smoothing_level'\n",
      "Error with parameters {'seasonal': 'add', 'seasonal_periods': 6, 'smoothing_level': 0.5, 'smoothing_seasonal': 0.1, 'smoothing_slope': 0.9, 'trend': 'mul'}: ExponentialSmoothing.__init__() got an unexpected keyword argument 'smoothing_level'\n",
      "Error with parameters {'seasonal': 'add', 'seasonal_periods': 6, 'smoothing_level': 0.5, 'smoothing_seasonal': 0.5, 'smoothing_slope': 0.1, 'trend': 'add'}: ExponentialSmoothing.__init__() got an unexpected keyword argument 'smoothing_level'\n",
      "Error with parameters {'seasonal': 'add', 'seasonal_periods': 6, 'smoothing_level': 0.5, 'smoothing_seasonal': 0.5, 'smoothing_slope': 0.1, 'trend': 'mul'}: ExponentialSmoothing.__init__() got an unexpected keyword argument 'smoothing_level'\n",
      "Error with parameters {'seasonal': 'add', 'seasonal_periods': 6, 'smoothing_level': 0.5, 'smoothing_seasonal': 0.5, 'smoothing_slope': 0.5, 'trend': 'add'}: ExponentialSmoothing.__init__() got an unexpected keyword argument 'smoothing_level'\n",
      "Error with parameters {'seasonal': 'add', 'seasonal_periods': 6, 'smoothing_level': 0.5, 'smoothing_seasonal': 0.5, 'smoothing_slope': 0.5, 'trend': 'mul'}: ExponentialSmoothing.__init__() got an unexpected keyword argument 'smoothing_level'\n",
      "Error with parameters {'seasonal': 'add', 'seasonal_periods': 6, 'smoothing_level': 0.5, 'smoothing_seasonal': 0.5, 'smoothing_slope': 0.9, 'trend': 'add'}: ExponentialSmoothing.__init__() got an unexpected keyword argument 'smoothing_level'\n",
      "Error with parameters {'seasonal': 'add', 'seasonal_periods': 6, 'smoothing_level': 0.5, 'smoothing_seasonal': 0.5, 'smoothing_slope': 0.9, 'trend': 'mul'}: ExponentialSmoothing.__init__() got an unexpected keyword argument 'smoothing_level'\n",
      "Error with parameters {'seasonal': 'add', 'seasonal_periods': 6, 'smoothing_level': 0.5, 'smoothing_seasonal': 0.9, 'smoothing_slope': 0.1, 'trend': 'add'}: ExponentialSmoothing.__init__() got an unexpected keyword argument 'smoothing_level'\n",
      "Error with parameters {'seasonal': 'add', 'seasonal_periods': 6, 'smoothing_level': 0.5, 'smoothing_seasonal': 0.9, 'smoothing_slope': 0.1, 'trend': 'mul'}: ExponentialSmoothing.__init__() got an unexpected keyword argument 'smoothing_level'\n",
      "Error with parameters {'seasonal': 'add', 'seasonal_periods': 6, 'smoothing_level': 0.5, 'smoothing_seasonal': 0.9, 'smoothing_slope': 0.5, 'trend': 'add'}: ExponentialSmoothing.__init__() got an unexpected keyword argument 'smoothing_level'\n",
      "Error with parameters {'seasonal': 'add', 'seasonal_periods': 6, 'smoothing_level': 0.5, 'smoothing_seasonal': 0.9, 'smoothing_slope': 0.5, 'trend': 'mul'}: ExponentialSmoothing.__init__() got an unexpected keyword argument 'smoothing_level'\n",
      "Error with parameters {'seasonal': 'add', 'seasonal_periods': 6, 'smoothing_level': 0.5, 'smoothing_seasonal': 0.9, 'smoothing_slope': 0.9, 'trend': 'add'}: ExponentialSmoothing.__init__() got an unexpected keyword argument 'smoothing_level'\n",
      "Error with parameters {'seasonal': 'add', 'seasonal_periods': 6, 'smoothing_level': 0.5, 'smoothing_seasonal': 0.9, 'smoothing_slope': 0.9, 'trend': 'mul'}: ExponentialSmoothing.__init__() got an unexpected keyword argument 'smoothing_level'\n",
      "Error with parameters {'seasonal': 'add', 'seasonal_periods': 6, 'smoothing_level': 0.9, 'smoothing_seasonal': 0.1, 'smoothing_slope': 0.1, 'trend': 'add'}: ExponentialSmoothing.__init__() got an unexpected keyword argument 'smoothing_level'\n",
      "Error with parameters {'seasonal': 'add', 'seasonal_periods': 6, 'smoothing_level': 0.9, 'smoothing_seasonal': 0.1, 'smoothing_slope': 0.1, 'trend': 'mul'}: ExponentialSmoothing.__init__() got an unexpected keyword argument 'smoothing_level'\n",
      "Error with parameters {'seasonal': 'add', 'seasonal_periods': 6, 'smoothing_level': 0.9, 'smoothing_seasonal': 0.1, 'smoothing_slope': 0.5, 'trend': 'add'}: ExponentialSmoothing.__init__() got an unexpected keyword argument 'smoothing_level'\n",
      "Error with parameters {'seasonal': 'add', 'seasonal_periods': 6, 'smoothing_level': 0.9, 'smoothing_seasonal': 0.1, 'smoothing_slope': 0.5, 'trend': 'mul'}: ExponentialSmoothing.__init__() got an unexpected keyword argument 'smoothing_level'\n",
      "Error with parameters {'seasonal': 'add', 'seasonal_periods': 6, 'smoothing_level': 0.9, 'smoothing_seasonal': 0.1, 'smoothing_slope': 0.9, 'trend': 'add'}: ExponentialSmoothing.__init__() got an unexpected keyword argument 'smoothing_level'\n",
      "Error with parameters {'seasonal': 'add', 'seasonal_periods': 6, 'smoothing_level': 0.9, 'smoothing_seasonal': 0.1, 'smoothing_slope': 0.9, 'trend': 'mul'}: ExponentialSmoothing.__init__() got an unexpected keyword argument 'smoothing_level'\n",
      "Error with parameters {'seasonal': 'add', 'seasonal_periods': 6, 'smoothing_level': 0.9, 'smoothing_seasonal': 0.5, 'smoothing_slope': 0.1, 'trend': 'add'}: ExponentialSmoothing.__init__() got an unexpected keyword argument 'smoothing_level'\n",
      "Error with parameters {'seasonal': 'add', 'seasonal_periods': 6, 'smoothing_level': 0.9, 'smoothing_seasonal': 0.5, 'smoothing_slope': 0.1, 'trend': 'mul'}: ExponentialSmoothing.__init__() got an unexpected keyword argument 'smoothing_level'\n",
      "Error with parameters {'seasonal': 'add', 'seasonal_periods': 6, 'smoothing_level': 0.9, 'smoothing_seasonal': 0.5, 'smoothing_slope': 0.5, 'trend': 'add'}: ExponentialSmoothing.__init__() got an unexpected keyword argument 'smoothing_level'\n",
      "Error with parameters {'seasonal': 'add', 'seasonal_periods': 6, 'smoothing_level': 0.9, 'smoothing_seasonal': 0.5, 'smoothing_slope': 0.5, 'trend': 'mul'}: ExponentialSmoothing.__init__() got an unexpected keyword argument 'smoothing_level'\n",
      "Error with parameters {'seasonal': 'add', 'seasonal_periods': 6, 'smoothing_level': 0.9, 'smoothing_seasonal': 0.5, 'smoothing_slope': 0.9, 'trend': 'add'}: ExponentialSmoothing.__init__() got an unexpected keyword argument 'smoothing_level'\n",
      "Error with parameters {'seasonal': 'add', 'seasonal_periods': 6, 'smoothing_level': 0.9, 'smoothing_seasonal': 0.5, 'smoothing_slope': 0.9, 'trend': 'mul'}: ExponentialSmoothing.__init__() got an unexpected keyword argument 'smoothing_level'\n",
      "Error with parameters {'seasonal': 'add', 'seasonal_periods': 6, 'smoothing_level': 0.9, 'smoothing_seasonal': 0.9, 'smoothing_slope': 0.1, 'trend': 'add'}: ExponentialSmoothing.__init__() got an unexpected keyword argument 'smoothing_level'\n",
      "Error with parameters {'seasonal': 'add', 'seasonal_periods': 6, 'smoothing_level': 0.9, 'smoothing_seasonal': 0.9, 'smoothing_slope': 0.1, 'trend': 'mul'}: ExponentialSmoothing.__init__() got an unexpected keyword argument 'smoothing_level'\n",
      "Error with parameters {'seasonal': 'add', 'seasonal_periods': 6, 'smoothing_level': 0.9, 'smoothing_seasonal': 0.9, 'smoothing_slope': 0.5, 'trend': 'add'}: ExponentialSmoothing.__init__() got an unexpected keyword argument 'smoothing_level'\n",
      "Error with parameters {'seasonal': 'add', 'seasonal_periods': 6, 'smoothing_level': 0.9, 'smoothing_seasonal': 0.9, 'smoothing_slope': 0.5, 'trend': 'mul'}: ExponentialSmoothing.__init__() got an unexpected keyword argument 'smoothing_level'\n",
      "Error with parameters {'seasonal': 'add', 'seasonal_periods': 6, 'smoothing_level': 0.9, 'smoothing_seasonal': 0.9, 'smoothing_slope': 0.9, 'trend': 'add'}: ExponentialSmoothing.__init__() got an unexpected keyword argument 'smoothing_level'\n",
      "Error with parameters {'seasonal': 'add', 'seasonal_periods': 6, 'smoothing_level': 0.9, 'smoothing_seasonal': 0.9, 'smoothing_slope': 0.9, 'trend': 'mul'}: ExponentialSmoothing.__init__() got an unexpected keyword argument 'smoothing_level'\n",
      "Error with parameters {'seasonal': 'add', 'seasonal_periods': 12, 'smoothing_level': 0.1, 'smoothing_seasonal': 0.1, 'smoothing_slope': 0.1, 'trend': 'add'}: ExponentialSmoothing.__init__() got an unexpected keyword argument 'smoothing_level'\n",
      "Error with parameters {'seasonal': 'add', 'seasonal_periods': 12, 'smoothing_level': 0.1, 'smoothing_seasonal': 0.1, 'smoothing_slope': 0.1, 'trend': 'mul'}: ExponentialSmoothing.__init__() got an unexpected keyword argument 'smoothing_level'\n",
      "Error with parameters {'seasonal': 'add', 'seasonal_periods': 12, 'smoothing_level': 0.1, 'smoothing_seasonal': 0.1, 'smoothing_slope': 0.5, 'trend': 'add'}: ExponentialSmoothing.__init__() got an unexpected keyword argument 'smoothing_level'\n",
      "Error with parameters {'seasonal': 'add', 'seasonal_periods': 12, 'smoothing_level': 0.1, 'smoothing_seasonal': 0.1, 'smoothing_slope': 0.5, 'trend': 'mul'}: ExponentialSmoothing.__init__() got an unexpected keyword argument 'smoothing_level'\n",
      "Error with parameters {'seasonal': 'add', 'seasonal_periods': 12, 'smoothing_level': 0.1, 'smoothing_seasonal': 0.1, 'smoothing_slope': 0.9, 'trend': 'add'}: ExponentialSmoothing.__init__() got an unexpected keyword argument 'smoothing_level'\n",
      "Error with parameters {'seasonal': 'add', 'seasonal_periods': 12, 'smoothing_level': 0.1, 'smoothing_seasonal': 0.1, 'smoothing_slope': 0.9, 'trend': 'mul'}: ExponentialSmoothing.__init__() got an unexpected keyword argument 'smoothing_level'\n",
      "Error with parameters {'seasonal': 'add', 'seasonal_periods': 12, 'smoothing_level': 0.1, 'smoothing_seasonal': 0.5, 'smoothing_slope': 0.1, 'trend': 'add'}: ExponentialSmoothing.__init__() got an unexpected keyword argument 'smoothing_level'\n",
      "Error with parameters {'seasonal': 'add', 'seasonal_periods': 12, 'smoothing_level': 0.1, 'smoothing_seasonal': 0.5, 'smoothing_slope': 0.1, 'trend': 'mul'}: ExponentialSmoothing.__init__() got an unexpected keyword argument 'smoothing_level'\n",
      "Error with parameters {'seasonal': 'add', 'seasonal_periods': 12, 'smoothing_level': 0.1, 'smoothing_seasonal': 0.5, 'smoothing_slope': 0.5, 'trend': 'add'}: ExponentialSmoothing.__init__() got an unexpected keyword argument 'smoothing_level'\n",
      "Error with parameters {'seasonal': 'add', 'seasonal_periods': 12, 'smoothing_level': 0.1, 'smoothing_seasonal': 0.5, 'smoothing_slope': 0.5, 'trend': 'mul'}: ExponentialSmoothing.__init__() got an unexpected keyword argument 'smoothing_level'\n",
      "Error with parameters {'seasonal': 'add', 'seasonal_periods': 12, 'smoothing_level': 0.1, 'smoothing_seasonal': 0.5, 'smoothing_slope': 0.9, 'trend': 'add'}: ExponentialSmoothing.__init__() got an unexpected keyword argument 'smoothing_level'\n",
      "Error with parameters {'seasonal': 'add', 'seasonal_periods': 12, 'smoothing_level': 0.1, 'smoothing_seasonal': 0.5, 'smoothing_slope': 0.9, 'trend': 'mul'}: ExponentialSmoothing.__init__() got an unexpected keyword argument 'smoothing_level'\n",
      "Error with parameters {'seasonal': 'add', 'seasonal_periods': 12, 'smoothing_level': 0.1, 'smoothing_seasonal': 0.9, 'smoothing_slope': 0.1, 'trend': 'add'}: ExponentialSmoothing.__init__() got an unexpected keyword argument 'smoothing_level'\n",
      "Error with parameters {'seasonal': 'add', 'seasonal_periods': 12, 'smoothing_level': 0.1, 'smoothing_seasonal': 0.9, 'smoothing_slope': 0.1, 'trend': 'mul'}: ExponentialSmoothing.__init__() got an unexpected keyword argument 'smoothing_level'\n",
      "Error with parameters {'seasonal': 'add', 'seasonal_periods': 12, 'smoothing_level': 0.1, 'smoothing_seasonal': 0.9, 'smoothing_slope': 0.5, 'trend': 'add'}: ExponentialSmoothing.__init__() got an unexpected keyword argument 'smoothing_level'\n",
      "Error with parameters {'seasonal': 'add', 'seasonal_periods': 12, 'smoothing_level': 0.1, 'smoothing_seasonal': 0.9, 'smoothing_slope': 0.5, 'trend': 'mul'}: ExponentialSmoothing.__init__() got an unexpected keyword argument 'smoothing_level'\n",
      "Error with parameters {'seasonal': 'add', 'seasonal_periods': 12, 'smoothing_level': 0.1, 'smoothing_seasonal': 0.9, 'smoothing_slope': 0.9, 'trend': 'add'}: ExponentialSmoothing.__init__() got an unexpected keyword argument 'smoothing_level'\n",
      "Error with parameters {'seasonal': 'add', 'seasonal_periods': 12, 'smoothing_level': 0.1, 'smoothing_seasonal': 0.9, 'smoothing_slope': 0.9, 'trend': 'mul'}: ExponentialSmoothing.__init__() got an unexpected keyword argument 'smoothing_level'\n",
      "Error with parameters {'seasonal': 'add', 'seasonal_periods': 12, 'smoothing_level': 0.5, 'smoothing_seasonal': 0.1, 'smoothing_slope': 0.1, 'trend': 'add'}: ExponentialSmoothing.__init__() got an unexpected keyword argument 'smoothing_level'\n",
      "Error with parameters {'seasonal': 'add', 'seasonal_periods': 12, 'smoothing_level': 0.5, 'smoothing_seasonal': 0.1, 'smoothing_slope': 0.1, 'trend': 'mul'}: ExponentialSmoothing.__init__() got an unexpected keyword argument 'smoothing_level'\n",
      "Error with parameters {'seasonal': 'add', 'seasonal_periods': 12, 'smoothing_level': 0.5, 'smoothing_seasonal': 0.1, 'smoothing_slope': 0.5, 'trend': 'add'}: ExponentialSmoothing.__init__() got an unexpected keyword argument 'smoothing_level'\n",
      "Error with parameters {'seasonal': 'add', 'seasonal_periods': 12, 'smoothing_level': 0.5, 'smoothing_seasonal': 0.1, 'smoothing_slope': 0.5, 'trend': 'mul'}: ExponentialSmoothing.__init__() got an unexpected keyword argument 'smoothing_level'\n",
      "Error with parameters {'seasonal': 'add', 'seasonal_periods': 12, 'smoothing_level': 0.5, 'smoothing_seasonal': 0.1, 'smoothing_slope': 0.9, 'trend': 'add'}: ExponentialSmoothing.__init__() got an unexpected keyword argument 'smoothing_level'\n",
      "Error with parameters {'seasonal': 'add', 'seasonal_periods': 12, 'smoothing_level': 0.5, 'smoothing_seasonal': 0.1, 'smoothing_slope': 0.9, 'trend': 'mul'}: ExponentialSmoothing.__init__() got an unexpected keyword argument 'smoothing_level'\n",
      "Error with parameters {'seasonal': 'add', 'seasonal_periods': 12, 'smoothing_level': 0.5, 'smoothing_seasonal': 0.5, 'smoothing_slope': 0.1, 'trend': 'add'}: ExponentialSmoothing.__init__() got an unexpected keyword argument 'smoothing_level'\n",
      "Error with parameters {'seasonal': 'add', 'seasonal_periods': 12, 'smoothing_level': 0.5, 'smoothing_seasonal': 0.5, 'smoothing_slope': 0.1, 'trend': 'mul'}: ExponentialSmoothing.__init__() got an unexpected keyword argument 'smoothing_level'\n",
      "Error with parameters {'seasonal': 'add', 'seasonal_periods': 12, 'smoothing_level': 0.5, 'smoothing_seasonal': 0.5, 'smoothing_slope': 0.5, 'trend': 'add'}: ExponentialSmoothing.__init__() got an unexpected keyword argument 'smoothing_level'\n",
      "Error with parameters {'seasonal': 'add', 'seasonal_periods': 12, 'smoothing_level': 0.5, 'smoothing_seasonal': 0.5, 'smoothing_slope': 0.5, 'trend': 'mul'}: ExponentialSmoothing.__init__() got an unexpected keyword argument 'smoothing_level'\n",
      "Error with parameters {'seasonal': 'add', 'seasonal_periods': 12, 'smoothing_level': 0.5, 'smoothing_seasonal': 0.5, 'smoothing_slope': 0.9, 'trend': 'add'}: ExponentialSmoothing.__init__() got an unexpected keyword argument 'smoothing_level'\n",
      "Error with parameters {'seasonal': 'add', 'seasonal_periods': 12, 'smoothing_level': 0.5, 'smoothing_seasonal': 0.5, 'smoothing_slope': 0.9, 'trend': 'mul'}: ExponentialSmoothing.__init__() got an unexpected keyword argument 'smoothing_level'\n",
      "Error with parameters {'seasonal': 'add', 'seasonal_periods': 12, 'smoothing_level': 0.5, 'smoothing_seasonal': 0.9, 'smoothing_slope': 0.1, 'trend': 'add'}: ExponentialSmoothing.__init__() got an unexpected keyword argument 'smoothing_level'\n",
      "Error with parameters {'seasonal': 'add', 'seasonal_periods': 12, 'smoothing_level': 0.5, 'smoothing_seasonal': 0.9, 'smoothing_slope': 0.1, 'trend': 'mul'}: ExponentialSmoothing.__init__() got an unexpected keyword argument 'smoothing_level'\n",
      "Error with parameters {'seasonal': 'add', 'seasonal_periods': 12, 'smoothing_level': 0.5, 'smoothing_seasonal': 0.9, 'smoothing_slope': 0.5, 'trend': 'add'}: ExponentialSmoothing.__init__() got an unexpected keyword argument 'smoothing_level'\n",
      "Error with parameters {'seasonal': 'add', 'seasonal_periods': 12, 'smoothing_level': 0.5, 'smoothing_seasonal': 0.9, 'smoothing_slope': 0.5, 'trend': 'mul'}: ExponentialSmoothing.__init__() got an unexpected keyword argument 'smoothing_level'\n",
      "Error with parameters {'seasonal': 'add', 'seasonal_periods': 12, 'smoothing_level': 0.5, 'smoothing_seasonal': 0.9, 'smoothing_slope': 0.9, 'trend': 'add'}: ExponentialSmoothing.__init__() got an unexpected keyword argument 'smoothing_level'\n",
      "Error with parameters {'seasonal': 'add', 'seasonal_periods': 12, 'smoothing_level': 0.5, 'smoothing_seasonal': 0.9, 'smoothing_slope': 0.9, 'trend': 'mul'}: ExponentialSmoothing.__init__() got an unexpected keyword argument 'smoothing_level'\n",
      "Error with parameters {'seasonal': 'add', 'seasonal_periods': 12, 'smoothing_level': 0.9, 'smoothing_seasonal': 0.1, 'smoothing_slope': 0.1, 'trend': 'add'}: ExponentialSmoothing.__init__() got an unexpected keyword argument 'smoothing_level'\n",
      "Error with parameters {'seasonal': 'add', 'seasonal_periods': 12, 'smoothing_level': 0.9, 'smoothing_seasonal': 0.1, 'smoothing_slope': 0.1, 'trend': 'mul'}: ExponentialSmoothing.__init__() got an unexpected keyword argument 'smoothing_level'\n",
      "Error with parameters {'seasonal': 'add', 'seasonal_periods': 12, 'smoothing_level': 0.9, 'smoothing_seasonal': 0.1, 'smoothing_slope': 0.5, 'trend': 'add'}: ExponentialSmoothing.__init__() got an unexpected keyword argument 'smoothing_level'\n",
      "Error with parameters {'seasonal': 'add', 'seasonal_periods': 12, 'smoothing_level': 0.9, 'smoothing_seasonal': 0.1, 'smoothing_slope': 0.5, 'trend': 'mul'}: ExponentialSmoothing.__init__() got an unexpected keyword argument 'smoothing_level'\n",
      "Error with parameters {'seasonal': 'add', 'seasonal_periods': 12, 'smoothing_level': 0.9, 'smoothing_seasonal': 0.1, 'smoothing_slope': 0.9, 'trend': 'add'}: ExponentialSmoothing.__init__() got an unexpected keyword argument 'smoothing_level'\n",
      "Error with parameters {'seasonal': 'add', 'seasonal_periods': 12, 'smoothing_level': 0.9, 'smoothing_seasonal': 0.1, 'smoothing_slope': 0.9, 'trend': 'mul'}: ExponentialSmoothing.__init__() got an unexpected keyword argument 'smoothing_level'\n",
      "Error with parameters {'seasonal': 'add', 'seasonal_periods': 12, 'smoothing_level': 0.9, 'smoothing_seasonal': 0.5, 'smoothing_slope': 0.1, 'trend': 'add'}: ExponentialSmoothing.__init__() got an unexpected keyword argument 'smoothing_level'\n",
      "Error with parameters {'seasonal': 'add', 'seasonal_periods': 12, 'smoothing_level': 0.9, 'smoothing_seasonal': 0.5, 'smoothing_slope': 0.1, 'trend': 'mul'}: ExponentialSmoothing.__init__() got an unexpected keyword argument 'smoothing_level'\n",
      "Error with parameters {'seasonal': 'add', 'seasonal_periods': 12, 'smoothing_level': 0.9, 'smoothing_seasonal': 0.5, 'smoothing_slope': 0.5, 'trend': 'add'}: ExponentialSmoothing.__init__() got an unexpected keyword argument 'smoothing_level'\n",
      "Error with parameters {'seasonal': 'add', 'seasonal_periods': 12, 'smoothing_level': 0.9, 'smoothing_seasonal': 0.5, 'smoothing_slope': 0.5, 'trend': 'mul'}: ExponentialSmoothing.__init__() got an unexpected keyword argument 'smoothing_level'\n",
      "Error with parameters {'seasonal': 'add', 'seasonal_periods': 12, 'smoothing_level': 0.9, 'smoothing_seasonal': 0.5, 'smoothing_slope': 0.9, 'trend': 'add'}: ExponentialSmoothing.__init__() got an unexpected keyword argument 'smoothing_level'\n",
      "Error with parameters {'seasonal': 'add', 'seasonal_periods': 12, 'smoothing_level': 0.9, 'smoothing_seasonal': 0.5, 'smoothing_slope': 0.9, 'trend': 'mul'}: ExponentialSmoothing.__init__() got an unexpected keyword argument 'smoothing_level'\n",
      "Error with parameters {'seasonal': 'add', 'seasonal_periods': 12, 'smoothing_level': 0.9, 'smoothing_seasonal': 0.9, 'smoothing_slope': 0.1, 'trend': 'add'}: ExponentialSmoothing.__init__() got an unexpected keyword argument 'smoothing_level'\n",
      "Error with parameters {'seasonal': 'add', 'seasonal_periods': 12, 'smoothing_level': 0.9, 'smoothing_seasonal': 0.9, 'smoothing_slope': 0.1, 'trend': 'mul'}: ExponentialSmoothing.__init__() got an unexpected keyword argument 'smoothing_level'\n",
      "Error with parameters {'seasonal': 'add', 'seasonal_periods': 12, 'smoothing_level': 0.9, 'smoothing_seasonal': 0.9, 'smoothing_slope': 0.5, 'trend': 'add'}: ExponentialSmoothing.__init__() got an unexpected keyword argument 'smoothing_level'\n",
      "Error with parameters {'seasonal': 'add', 'seasonal_periods': 12, 'smoothing_level': 0.9, 'smoothing_seasonal': 0.9, 'smoothing_slope': 0.5, 'trend': 'mul'}: ExponentialSmoothing.__init__() got an unexpected keyword argument 'smoothing_level'\n",
      "Error with parameters {'seasonal': 'add', 'seasonal_periods': 12, 'smoothing_level': 0.9, 'smoothing_seasonal': 0.9, 'smoothing_slope': 0.9, 'trend': 'add'}: ExponentialSmoothing.__init__() got an unexpected keyword argument 'smoothing_level'\n",
      "Error with parameters {'seasonal': 'add', 'seasonal_periods': 12, 'smoothing_level': 0.9, 'smoothing_seasonal': 0.9, 'smoothing_slope': 0.9, 'trend': 'mul'}: ExponentialSmoothing.__init__() got an unexpected keyword argument 'smoothing_level'\n",
      "Error with parameters {'seasonal': 'mul', 'seasonal_periods': 6, 'smoothing_level': 0.1, 'smoothing_seasonal': 0.1, 'smoothing_slope': 0.1, 'trend': 'add'}: ExponentialSmoothing.__init__() got an unexpected keyword argument 'smoothing_level'\n",
      "Error with parameters {'seasonal': 'mul', 'seasonal_periods': 6, 'smoothing_level': 0.1, 'smoothing_seasonal': 0.1, 'smoothing_slope': 0.1, 'trend': 'mul'}: ExponentialSmoothing.__init__() got an unexpected keyword argument 'smoothing_level'\n",
      "Error with parameters {'seasonal': 'mul', 'seasonal_periods': 6, 'smoothing_level': 0.1, 'smoothing_seasonal': 0.1, 'smoothing_slope': 0.5, 'trend': 'add'}: ExponentialSmoothing.__init__() got an unexpected keyword argument 'smoothing_level'\n",
      "Error with parameters {'seasonal': 'mul', 'seasonal_periods': 6, 'smoothing_level': 0.1, 'smoothing_seasonal': 0.1, 'smoothing_slope': 0.5, 'trend': 'mul'}: ExponentialSmoothing.__init__() got an unexpected keyword argument 'smoothing_level'\n",
      "Error with parameters {'seasonal': 'mul', 'seasonal_periods': 6, 'smoothing_level': 0.1, 'smoothing_seasonal': 0.1, 'smoothing_slope': 0.9, 'trend': 'add'}: ExponentialSmoothing.__init__() got an unexpected keyword argument 'smoothing_level'\n",
      "Error with parameters {'seasonal': 'mul', 'seasonal_periods': 6, 'smoothing_level': 0.1, 'smoothing_seasonal': 0.1, 'smoothing_slope': 0.9, 'trend': 'mul'}: ExponentialSmoothing.__init__() got an unexpected keyword argument 'smoothing_level'\n",
      "Error with parameters {'seasonal': 'mul', 'seasonal_periods': 6, 'smoothing_level': 0.1, 'smoothing_seasonal': 0.5, 'smoothing_slope': 0.1, 'trend': 'add'}: ExponentialSmoothing.__init__() got an unexpected keyword argument 'smoothing_level'\n",
      "Error with parameters {'seasonal': 'mul', 'seasonal_periods': 6, 'smoothing_level': 0.1, 'smoothing_seasonal': 0.5, 'smoothing_slope': 0.1, 'trend': 'mul'}: ExponentialSmoothing.__init__() got an unexpected keyword argument 'smoothing_level'\n",
      "Error with parameters {'seasonal': 'mul', 'seasonal_periods': 6, 'smoothing_level': 0.1, 'smoothing_seasonal': 0.5, 'smoothing_slope': 0.5, 'trend': 'add'}: ExponentialSmoothing.__init__() got an unexpected keyword argument 'smoothing_level'\n",
      "Error with parameters {'seasonal': 'mul', 'seasonal_periods': 6, 'smoothing_level': 0.1, 'smoothing_seasonal': 0.5, 'smoothing_slope': 0.5, 'trend': 'mul'}: ExponentialSmoothing.__init__() got an unexpected keyword argument 'smoothing_level'\n",
      "Error with parameters {'seasonal': 'mul', 'seasonal_periods': 6, 'smoothing_level': 0.1, 'smoothing_seasonal': 0.5, 'smoothing_slope': 0.9, 'trend': 'add'}: ExponentialSmoothing.__init__() got an unexpected keyword argument 'smoothing_level'\n",
      "Error with parameters {'seasonal': 'mul', 'seasonal_periods': 6, 'smoothing_level': 0.1, 'smoothing_seasonal': 0.5, 'smoothing_slope': 0.9, 'trend': 'mul'}: ExponentialSmoothing.__init__() got an unexpected keyword argument 'smoothing_level'\n",
      "Error with parameters {'seasonal': 'mul', 'seasonal_periods': 6, 'smoothing_level': 0.1, 'smoothing_seasonal': 0.9, 'smoothing_slope': 0.1, 'trend': 'add'}: ExponentialSmoothing.__init__() got an unexpected keyword argument 'smoothing_level'\n",
      "Error with parameters {'seasonal': 'mul', 'seasonal_periods': 6, 'smoothing_level': 0.1, 'smoothing_seasonal': 0.9, 'smoothing_slope': 0.1, 'trend': 'mul'}: ExponentialSmoothing.__init__() got an unexpected keyword argument 'smoothing_level'\n",
      "Error with parameters {'seasonal': 'mul', 'seasonal_periods': 6, 'smoothing_level': 0.1, 'smoothing_seasonal': 0.9, 'smoothing_slope': 0.5, 'trend': 'add'}: ExponentialSmoothing.__init__() got an unexpected keyword argument 'smoothing_level'\n",
      "Error with parameters {'seasonal': 'mul', 'seasonal_periods': 6, 'smoothing_level': 0.1, 'smoothing_seasonal': 0.9, 'smoothing_slope': 0.5, 'trend': 'mul'}: ExponentialSmoothing.__init__() got an unexpected keyword argument 'smoothing_level'\n",
      "Error with parameters {'seasonal': 'mul', 'seasonal_periods': 6, 'smoothing_level': 0.1, 'smoothing_seasonal': 0.9, 'smoothing_slope': 0.9, 'trend': 'add'}: ExponentialSmoothing.__init__() got an unexpected keyword argument 'smoothing_level'\n",
      "Error with parameters {'seasonal': 'mul', 'seasonal_periods': 6, 'smoothing_level': 0.1, 'smoothing_seasonal': 0.9, 'smoothing_slope': 0.9, 'trend': 'mul'}: ExponentialSmoothing.__init__() got an unexpected keyword argument 'smoothing_level'\n",
      "Error with parameters {'seasonal': 'mul', 'seasonal_periods': 6, 'smoothing_level': 0.5, 'smoothing_seasonal': 0.1, 'smoothing_slope': 0.1, 'trend': 'add'}: ExponentialSmoothing.__init__() got an unexpected keyword argument 'smoothing_level'\n",
      "Error with parameters {'seasonal': 'mul', 'seasonal_periods': 6, 'smoothing_level': 0.5, 'smoothing_seasonal': 0.1, 'smoothing_slope': 0.1, 'trend': 'mul'}: ExponentialSmoothing.__init__() got an unexpected keyword argument 'smoothing_level'\n",
      "Error with parameters {'seasonal': 'mul', 'seasonal_periods': 6, 'smoothing_level': 0.5, 'smoothing_seasonal': 0.1, 'smoothing_slope': 0.5, 'trend': 'add'}: ExponentialSmoothing.__init__() got an unexpected keyword argument 'smoothing_level'\n",
      "Error with parameters {'seasonal': 'mul', 'seasonal_periods': 6, 'smoothing_level': 0.5, 'smoothing_seasonal': 0.1, 'smoothing_slope': 0.5, 'trend': 'mul'}: ExponentialSmoothing.__init__() got an unexpected keyword argument 'smoothing_level'\n",
      "Error with parameters {'seasonal': 'mul', 'seasonal_periods': 6, 'smoothing_level': 0.5, 'smoothing_seasonal': 0.1, 'smoothing_slope': 0.9, 'trend': 'add'}: ExponentialSmoothing.__init__() got an unexpected keyword argument 'smoothing_level'\n",
      "Error with parameters {'seasonal': 'mul', 'seasonal_periods': 6, 'smoothing_level': 0.5, 'smoothing_seasonal': 0.1, 'smoothing_slope': 0.9, 'trend': 'mul'}: ExponentialSmoothing.__init__() got an unexpected keyword argument 'smoothing_level'\n",
      "Error with parameters {'seasonal': 'mul', 'seasonal_periods': 6, 'smoothing_level': 0.5, 'smoothing_seasonal': 0.5, 'smoothing_slope': 0.1, 'trend': 'add'}: ExponentialSmoothing.__init__() got an unexpected keyword argument 'smoothing_level'\n",
      "Error with parameters {'seasonal': 'mul', 'seasonal_periods': 6, 'smoothing_level': 0.5, 'smoothing_seasonal': 0.5, 'smoothing_slope': 0.1, 'trend': 'mul'}: ExponentialSmoothing.__init__() got an unexpected keyword argument 'smoothing_level'\n",
      "Error with parameters {'seasonal': 'mul', 'seasonal_periods': 6, 'smoothing_level': 0.5, 'smoothing_seasonal': 0.5, 'smoothing_slope': 0.5, 'trend': 'add'}: ExponentialSmoothing.__init__() got an unexpected keyword argument 'smoothing_level'\n",
      "Error with parameters {'seasonal': 'mul', 'seasonal_periods': 6, 'smoothing_level': 0.5, 'smoothing_seasonal': 0.5, 'smoothing_slope': 0.5, 'trend': 'mul'}: ExponentialSmoothing.__init__() got an unexpected keyword argument 'smoothing_level'\n",
      "Error with parameters {'seasonal': 'mul', 'seasonal_periods': 6, 'smoothing_level': 0.5, 'smoothing_seasonal': 0.5, 'smoothing_slope': 0.9, 'trend': 'add'}: ExponentialSmoothing.__init__() got an unexpected keyword argument 'smoothing_level'\n",
      "Error with parameters {'seasonal': 'mul', 'seasonal_periods': 6, 'smoothing_level': 0.5, 'smoothing_seasonal': 0.5, 'smoothing_slope': 0.9, 'trend': 'mul'}: ExponentialSmoothing.__init__() got an unexpected keyword argument 'smoothing_level'\n",
      "Error with parameters {'seasonal': 'mul', 'seasonal_periods': 6, 'smoothing_level': 0.5, 'smoothing_seasonal': 0.9, 'smoothing_slope': 0.1, 'trend': 'add'}: ExponentialSmoothing.__init__() got an unexpected keyword argument 'smoothing_level'\n",
      "Error with parameters {'seasonal': 'mul', 'seasonal_periods': 6, 'smoothing_level': 0.5, 'smoothing_seasonal': 0.9, 'smoothing_slope': 0.1, 'trend': 'mul'}: ExponentialSmoothing.__init__() got an unexpected keyword argument 'smoothing_level'\n",
      "Error with parameters {'seasonal': 'mul', 'seasonal_periods': 6, 'smoothing_level': 0.5, 'smoothing_seasonal': 0.9, 'smoothing_slope': 0.5, 'trend': 'add'}: ExponentialSmoothing.__init__() got an unexpected keyword argument 'smoothing_level'\n",
      "Error with parameters {'seasonal': 'mul', 'seasonal_periods': 6, 'smoothing_level': 0.5, 'smoothing_seasonal': 0.9, 'smoothing_slope': 0.5, 'trend': 'mul'}: ExponentialSmoothing.__init__() got an unexpected keyword argument 'smoothing_level'\n",
      "Error with parameters {'seasonal': 'mul', 'seasonal_periods': 6, 'smoothing_level': 0.5, 'smoothing_seasonal': 0.9, 'smoothing_slope': 0.9, 'trend': 'add'}: ExponentialSmoothing.__init__() got an unexpected keyword argument 'smoothing_level'\n",
      "Error with parameters {'seasonal': 'mul', 'seasonal_periods': 6, 'smoothing_level': 0.5, 'smoothing_seasonal': 0.9, 'smoothing_slope': 0.9, 'trend': 'mul'}: ExponentialSmoothing.__init__() got an unexpected keyword argument 'smoothing_level'\n",
      "Error with parameters {'seasonal': 'mul', 'seasonal_periods': 6, 'smoothing_level': 0.9, 'smoothing_seasonal': 0.1, 'smoothing_slope': 0.1, 'trend': 'add'}: ExponentialSmoothing.__init__() got an unexpected keyword argument 'smoothing_level'\n",
      "Error with parameters {'seasonal': 'mul', 'seasonal_periods': 6, 'smoothing_level': 0.9, 'smoothing_seasonal': 0.1, 'smoothing_slope': 0.1, 'trend': 'mul'}: ExponentialSmoothing.__init__() got an unexpected keyword argument 'smoothing_level'\n",
      "Error with parameters {'seasonal': 'mul', 'seasonal_periods': 6, 'smoothing_level': 0.9, 'smoothing_seasonal': 0.1, 'smoothing_slope': 0.5, 'trend': 'add'}: ExponentialSmoothing.__init__() got an unexpected keyword argument 'smoothing_level'\n",
      "Error with parameters {'seasonal': 'mul', 'seasonal_periods': 6, 'smoothing_level': 0.9, 'smoothing_seasonal': 0.1, 'smoothing_slope': 0.5, 'trend': 'mul'}: ExponentialSmoothing.__init__() got an unexpected keyword argument 'smoothing_level'\n",
      "Error with parameters {'seasonal': 'mul', 'seasonal_periods': 6, 'smoothing_level': 0.9, 'smoothing_seasonal': 0.1, 'smoothing_slope': 0.9, 'trend': 'add'}: ExponentialSmoothing.__init__() got an unexpected keyword argument 'smoothing_level'\n",
      "Error with parameters {'seasonal': 'mul', 'seasonal_periods': 6, 'smoothing_level': 0.9, 'smoothing_seasonal': 0.1, 'smoothing_slope': 0.9, 'trend': 'mul'}: ExponentialSmoothing.__init__() got an unexpected keyword argument 'smoothing_level'\n",
      "Error with parameters {'seasonal': 'mul', 'seasonal_periods': 6, 'smoothing_level': 0.9, 'smoothing_seasonal': 0.5, 'smoothing_slope': 0.1, 'trend': 'add'}: ExponentialSmoothing.__init__() got an unexpected keyword argument 'smoothing_level'\n",
      "Error with parameters {'seasonal': 'mul', 'seasonal_periods': 6, 'smoothing_level': 0.9, 'smoothing_seasonal': 0.5, 'smoothing_slope': 0.1, 'trend': 'mul'}: ExponentialSmoothing.__init__() got an unexpected keyword argument 'smoothing_level'\n",
      "Error with parameters {'seasonal': 'mul', 'seasonal_periods': 6, 'smoothing_level': 0.9, 'smoothing_seasonal': 0.5, 'smoothing_slope': 0.5, 'trend': 'add'}: ExponentialSmoothing.__init__() got an unexpected keyword argument 'smoothing_level'\n",
      "Error with parameters {'seasonal': 'mul', 'seasonal_periods': 6, 'smoothing_level': 0.9, 'smoothing_seasonal': 0.5, 'smoothing_slope': 0.5, 'trend': 'mul'}: ExponentialSmoothing.__init__() got an unexpected keyword argument 'smoothing_level'\n",
      "Error with parameters {'seasonal': 'mul', 'seasonal_periods': 6, 'smoothing_level': 0.9, 'smoothing_seasonal': 0.5, 'smoothing_slope': 0.9, 'trend': 'add'}: ExponentialSmoothing.__init__() got an unexpected keyword argument 'smoothing_level'\n",
      "Error with parameters {'seasonal': 'mul', 'seasonal_periods': 6, 'smoothing_level': 0.9, 'smoothing_seasonal': 0.5, 'smoothing_slope': 0.9, 'trend': 'mul'}: ExponentialSmoothing.__init__() got an unexpected keyword argument 'smoothing_level'\n",
      "Error with parameters {'seasonal': 'mul', 'seasonal_periods': 6, 'smoothing_level': 0.9, 'smoothing_seasonal': 0.9, 'smoothing_slope': 0.1, 'trend': 'add'}: ExponentialSmoothing.__init__() got an unexpected keyword argument 'smoothing_level'\n",
      "Error with parameters {'seasonal': 'mul', 'seasonal_periods': 6, 'smoothing_level': 0.9, 'smoothing_seasonal': 0.9, 'smoothing_slope': 0.1, 'trend': 'mul'}: ExponentialSmoothing.__init__() got an unexpected keyword argument 'smoothing_level'\n",
      "Error with parameters {'seasonal': 'mul', 'seasonal_periods': 6, 'smoothing_level': 0.9, 'smoothing_seasonal': 0.9, 'smoothing_slope': 0.5, 'trend': 'add'}: ExponentialSmoothing.__init__() got an unexpected keyword argument 'smoothing_level'\n",
      "Error with parameters {'seasonal': 'mul', 'seasonal_periods': 6, 'smoothing_level': 0.9, 'smoothing_seasonal': 0.9, 'smoothing_slope': 0.5, 'trend': 'mul'}: ExponentialSmoothing.__init__() got an unexpected keyword argument 'smoothing_level'\n",
      "Error with parameters {'seasonal': 'mul', 'seasonal_periods': 6, 'smoothing_level': 0.9, 'smoothing_seasonal': 0.9, 'smoothing_slope': 0.9, 'trend': 'add'}: ExponentialSmoothing.__init__() got an unexpected keyword argument 'smoothing_level'\n",
      "Error with parameters {'seasonal': 'mul', 'seasonal_periods': 6, 'smoothing_level': 0.9, 'smoothing_seasonal': 0.9, 'smoothing_slope': 0.9, 'trend': 'mul'}: ExponentialSmoothing.__init__() got an unexpected keyword argument 'smoothing_level'\n",
      "Error with parameters {'seasonal': 'mul', 'seasonal_periods': 12, 'smoothing_level': 0.1, 'smoothing_seasonal': 0.1, 'smoothing_slope': 0.1, 'trend': 'add'}: ExponentialSmoothing.__init__() got an unexpected keyword argument 'smoothing_level'\n",
      "Error with parameters {'seasonal': 'mul', 'seasonal_periods': 12, 'smoothing_level': 0.1, 'smoothing_seasonal': 0.1, 'smoothing_slope': 0.1, 'trend': 'mul'}: ExponentialSmoothing.__init__() got an unexpected keyword argument 'smoothing_level'\n",
      "Error with parameters {'seasonal': 'mul', 'seasonal_periods': 12, 'smoothing_level': 0.1, 'smoothing_seasonal': 0.1, 'smoothing_slope': 0.5, 'trend': 'add'}: ExponentialSmoothing.__init__() got an unexpected keyword argument 'smoothing_level'\n",
      "Error with parameters {'seasonal': 'mul', 'seasonal_periods': 12, 'smoothing_level': 0.1, 'smoothing_seasonal': 0.1, 'smoothing_slope': 0.5, 'trend': 'mul'}: ExponentialSmoothing.__init__() got an unexpected keyword argument 'smoothing_level'\n",
      "Error with parameters {'seasonal': 'mul', 'seasonal_periods': 12, 'smoothing_level': 0.1, 'smoothing_seasonal': 0.1, 'smoothing_slope': 0.9, 'trend': 'add'}: ExponentialSmoothing.__init__() got an unexpected keyword argument 'smoothing_level'\n",
      "Error with parameters {'seasonal': 'mul', 'seasonal_periods': 12, 'smoothing_level': 0.1, 'smoothing_seasonal': 0.1, 'smoothing_slope': 0.9, 'trend': 'mul'}: ExponentialSmoothing.__init__() got an unexpected keyword argument 'smoothing_level'\n",
      "Error with parameters {'seasonal': 'mul', 'seasonal_periods': 12, 'smoothing_level': 0.1, 'smoothing_seasonal': 0.5, 'smoothing_slope': 0.1, 'trend': 'add'}: ExponentialSmoothing.__init__() got an unexpected keyword argument 'smoothing_level'\n",
      "Error with parameters {'seasonal': 'mul', 'seasonal_periods': 12, 'smoothing_level': 0.1, 'smoothing_seasonal': 0.5, 'smoothing_slope': 0.1, 'trend': 'mul'}: ExponentialSmoothing.__init__() got an unexpected keyword argument 'smoothing_level'\n",
      "Error with parameters {'seasonal': 'mul', 'seasonal_periods': 12, 'smoothing_level': 0.1, 'smoothing_seasonal': 0.5, 'smoothing_slope': 0.5, 'trend': 'add'}: ExponentialSmoothing.__init__() got an unexpected keyword argument 'smoothing_level'\n",
      "Error with parameters {'seasonal': 'mul', 'seasonal_periods': 12, 'smoothing_level': 0.1, 'smoothing_seasonal': 0.5, 'smoothing_slope': 0.5, 'trend': 'mul'}: ExponentialSmoothing.__init__() got an unexpected keyword argument 'smoothing_level'\n",
      "Error with parameters {'seasonal': 'mul', 'seasonal_periods': 12, 'smoothing_level': 0.1, 'smoothing_seasonal': 0.5, 'smoothing_slope': 0.9, 'trend': 'add'}: ExponentialSmoothing.__init__() got an unexpected keyword argument 'smoothing_level'\n",
      "Error with parameters {'seasonal': 'mul', 'seasonal_periods': 12, 'smoothing_level': 0.1, 'smoothing_seasonal': 0.5, 'smoothing_slope': 0.9, 'trend': 'mul'}: ExponentialSmoothing.__init__() got an unexpected keyword argument 'smoothing_level'\n",
      "Error with parameters {'seasonal': 'mul', 'seasonal_periods': 12, 'smoothing_level': 0.1, 'smoothing_seasonal': 0.9, 'smoothing_slope': 0.1, 'trend': 'add'}: ExponentialSmoothing.__init__() got an unexpected keyword argument 'smoothing_level'\n",
      "Error with parameters {'seasonal': 'mul', 'seasonal_periods': 12, 'smoothing_level': 0.1, 'smoothing_seasonal': 0.9, 'smoothing_slope': 0.1, 'trend': 'mul'}: ExponentialSmoothing.__init__() got an unexpected keyword argument 'smoothing_level'\n",
      "Error with parameters {'seasonal': 'mul', 'seasonal_periods': 12, 'smoothing_level': 0.1, 'smoothing_seasonal': 0.9, 'smoothing_slope': 0.5, 'trend': 'add'}: ExponentialSmoothing.__init__() got an unexpected keyword argument 'smoothing_level'\n",
      "Error with parameters {'seasonal': 'mul', 'seasonal_periods': 12, 'smoothing_level': 0.1, 'smoothing_seasonal': 0.9, 'smoothing_slope': 0.5, 'trend': 'mul'}: ExponentialSmoothing.__init__() got an unexpected keyword argument 'smoothing_level'\n",
      "Error with parameters {'seasonal': 'mul', 'seasonal_periods': 12, 'smoothing_level': 0.1, 'smoothing_seasonal': 0.9, 'smoothing_slope': 0.9, 'trend': 'add'}: ExponentialSmoothing.__init__() got an unexpected keyword argument 'smoothing_level'\n",
      "Error with parameters {'seasonal': 'mul', 'seasonal_periods': 12, 'smoothing_level': 0.1, 'smoothing_seasonal': 0.9, 'smoothing_slope': 0.9, 'trend': 'mul'}: ExponentialSmoothing.__init__() got an unexpected keyword argument 'smoothing_level'\n",
      "Error with parameters {'seasonal': 'mul', 'seasonal_periods': 12, 'smoothing_level': 0.5, 'smoothing_seasonal': 0.1, 'smoothing_slope': 0.1, 'trend': 'add'}: ExponentialSmoothing.__init__() got an unexpected keyword argument 'smoothing_level'\n",
      "Error with parameters {'seasonal': 'mul', 'seasonal_periods': 12, 'smoothing_level': 0.5, 'smoothing_seasonal': 0.1, 'smoothing_slope': 0.1, 'trend': 'mul'}: ExponentialSmoothing.__init__() got an unexpected keyword argument 'smoothing_level'\n",
      "Error with parameters {'seasonal': 'mul', 'seasonal_periods': 12, 'smoothing_level': 0.5, 'smoothing_seasonal': 0.1, 'smoothing_slope': 0.5, 'trend': 'add'}: ExponentialSmoothing.__init__() got an unexpected keyword argument 'smoothing_level'\n",
      "Error with parameters {'seasonal': 'mul', 'seasonal_periods': 12, 'smoothing_level': 0.5, 'smoothing_seasonal': 0.1, 'smoothing_slope': 0.5, 'trend': 'mul'}: ExponentialSmoothing.__init__() got an unexpected keyword argument 'smoothing_level'\n",
      "Error with parameters {'seasonal': 'mul', 'seasonal_periods': 12, 'smoothing_level': 0.5, 'smoothing_seasonal': 0.1, 'smoothing_slope': 0.9, 'trend': 'add'}: ExponentialSmoothing.__init__() got an unexpected keyword argument 'smoothing_level'\n",
      "Error with parameters {'seasonal': 'mul', 'seasonal_periods': 12, 'smoothing_level': 0.5, 'smoothing_seasonal': 0.1, 'smoothing_slope': 0.9, 'trend': 'mul'}: ExponentialSmoothing.__init__() got an unexpected keyword argument 'smoothing_level'\n",
      "Error with parameters {'seasonal': 'mul', 'seasonal_periods': 12, 'smoothing_level': 0.5, 'smoothing_seasonal': 0.5, 'smoothing_slope': 0.1, 'trend': 'add'}: ExponentialSmoothing.__init__() got an unexpected keyword argument 'smoothing_level'\n",
      "Error with parameters {'seasonal': 'mul', 'seasonal_periods': 12, 'smoothing_level': 0.5, 'smoothing_seasonal': 0.5, 'smoothing_slope': 0.1, 'trend': 'mul'}: ExponentialSmoothing.__init__() got an unexpected keyword argument 'smoothing_level'\n",
      "Error with parameters {'seasonal': 'mul', 'seasonal_periods': 12, 'smoothing_level': 0.5, 'smoothing_seasonal': 0.5, 'smoothing_slope': 0.5, 'trend': 'add'}: ExponentialSmoothing.__init__() got an unexpected keyword argument 'smoothing_level'\n",
      "Error with parameters {'seasonal': 'mul', 'seasonal_periods': 12, 'smoothing_level': 0.5, 'smoothing_seasonal': 0.5, 'smoothing_slope': 0.5, 'trend': 'mul'}: ExponentialSmoothing.__init__() got an unexpected keyword argument 'smoothing_level'\n",
      "Error with parameters {'seasonal': 'mul', 'seasonal_periods': 12, 'smoothing_level': 0.5, 'smoothing_seasonal': 0.5, 'smoothing_slope': 0.9, 'trend': 'add'}: ExponentialSmoothing.__init__() got an unexpected keyword argument 'smoothing_level'\n",
      "Error with parameters {'seasonal': 'mul', 'seasonal_periods': 12, 'smoothing_level': 0.5, 'smoothing_seasonal': 0.5, 'smoothing_slope': 0.9, 'trend': 'mul'}: ExponentialSmoothing.__init__() got an unexpected keyword argument 'smoothing_level'\n",
      "Error with parameters {'seasonal': 'mul', 'seasonal_periods': 12, 'smoothing_level': 0.5, 'smoothing_seasonal': 0.9, 'smoothing_slope': 0.1, 'trend': 'add'}: ExponentialSmoothing.__init__() got an unexpected keyword argument 'smoothing_level'\n",
      "Error with parameters {'seasonal': 'mul', 'seasonal_periods': 12, 'smoothing_level': 0.5, 'smoothing_seasonal': 0.9, 'smoothing_slope': 0.1, 'trend': 'mul'}: ExponentialSmoothing.__init__() got an unexpected keyword argument 'smoothing_level'\n",
      "Error with parameters {'seasonal': 'mul', 'seasonal_periods': 12, 'smoothing_level': 0.5, 'smoothing_seasonal': 0.9, 'smoothing_slope': 0.5, 'trend': 'add'}: ExponentialSmoothing.__init__() got an unexpected keyword argument 'smoothing_level'\n",
      "Error with parameters {'seasonal': 'mul', 'seasonal_periods': 12, 'smoothing_level': 0.5, 'smoothing_seasonal': 0.9, 'smoothing_slope': 0.5, 'trend': 'mul'}: ExponentialSmoothing.__init__() got an unexpected keyword argument 'smoothing_level'\n",
      "Error with parameters {'seasonal': 'mul', 'seasonal_periods': 12, 'smoothing_level': 0.5, 'smoothing_seasonal': 0.9, 'smoothing_slope': 0.9, 'trend': 'add'}: ExponentialSmoothing.__init__() got an unexpected keyword argument 'smoothing_level'\n",
      "Error with parameters {'seasonal': 'mul', 'seasonal_periods': 12, 'smoothing_level': 0.5, 'smoothing_seasonal': 0.9, 'smoothing_slope': 0.9, 'trend': 'mul'}: ExponentialSmoothing.__init__() got an unexpected keyword argument 'smoothing_level'\n",
      "Error with parameters {'seasonal': 'mul', 'seasonal_periods': 12, 'smoothing_level': 0.9, 'smoothing_seasonal': 0.1, 'smoothing_slope': 0.1, 'trend': 'add'}: ExponentialSmoothing.__init__() got an unexpected keyword argument 'smoothing_level'\n",
      "Error with parameters {'seasonal': 'mul', 'seasonal_periods': 12, 'smoothing_level': 0.9, 'smoothing_seasonal': 0.1, 'smoothing_slope': 0.1, 'trend': 'mul'}: ExponentialSmoothing.__init__() got an unexpected keyword argument 'smoothing_level'\n",
      "Error with parameters {'seasonal': 'mul', 'seasonal_periods': 12, 'smoothing_level': 0.9, 'smoothing_seasonal': 0.1, 'smoothing_slope': 0.5, 'trend': 'add'}: ExponentialSmoothing.__init__() got an unexpected keyword argument 'smoothing_level'\n",
      "Error with parameters {'seasonal': 'mul', 'seasonal_periods': 12, 'smoothing_level': 0.9, 'smoothing_seasonal': 0.1, 'smoothing_slope': 0.5, 'trend': 'mul'}: ExponentialSmoothing.__init__() got an unexpected keyword argument 'smoothing_level'\n",
      "Error with parameters {'seasonal': 'mul', 'seasonal_periods': 12, 'smoothing_level': 0.9, 'smoothing_seasonal': 0.1, 'smoothing_slope': 0.9, 'trend': 'add'}: ExponentialSmoothing.__init__() got an unexpected keyword argument 'smoothing_level'\n",
      "Error with parameters {'seasonal': 'mul', 'seasonal_periods': 12, 'smoothing_level': 0.9, 'smoothing_seasonal': 0.1, 'smoothing_slope': 0.9, 'trend': 'mul'}: ExponentialSmoothing.__init__() got an unexpected keyword argument 'smoothing_level'\n",
      "Error with parameters {'seasonal': 'mul', 'seasonal_periods': 12, 'smoothing_level': 0.9, 'smoothing_seasonal': 0.5, 'smoothing_slope': 0.1, 'trend': 'add'}: ExponentialSmoothing.__init__() got an unexpected keyword argument 'smoothing_level'\n",
      "Error with parameters {'seasonal': 'mul', 'seasonal_periods': 12, 'smoothing_level': 0.9, 'smoothing_seasonal': 0.5, 'smoothing_slope': 0.1, 'trend': 'mul'}: ExponentialSmoothing.__init__() got an unexpected keyword argument 'smoothing_level'\n",
      "Error with parameters {'seasonal': 'mul', 'seasonal_periods': 12, 'smoothing_level': 0.9, 'smoothing_seasonal': 0.5, 'smoothing_slope': 0.5, 'trend': 'add'}: ExponentialSmoothing.__init__() got an unexpected keyword argument 'smoothing_level'\n",
      "Error with parameters {'seasonal': 'mul', 'seasonal_periods': 12, 'smoothing_level': 0.9, 'smoothing_seasonal': 0.5, 'smoothing_slope': 0.5, 'trend': 'mul'}: ExponentialSmoothing.__init__() got an unexpected keyword argument 'smoothing_level'\n",
      "Error with parameters {'seasonal': 'mul', 'seasonal_periods': 12, 'smoothing_level': 0.9, 'smoothing_seasonal': 0.5, 'smoothing_slope': 0.9, 'trend': 'add'}: ExponentialSmoothing.__init__() got an unexpected keyword argument 'smoothing_level'\n",
      "Error with parameters {'seasonal': 'mul', 'seasonal_periods': 12, 'smoothing_level': 0.9, 'smoothing_seasonal': 0.5, 'smoothing_slope': 0.9, 'trend': 'mul'}: ExponentialSmoothing.__init__() got an unexpected keyword argument 'smoothing_level'\n",
      "Error with parameters {'seasonal': 'mul', 'seasonal_periods': 12, 'smoothing_level': 0.9, 'smoothing_seasonal': 0.9, 'smoothing_slope': 0.1, 'trend': 'add'}: ExponentialSmoothing.__init__() got an unexpected keyword argument 'smoothing_level'\n",
      "Error with parameters {'seasonal': 'mul', 'seasonal_periods': 12, 'smoothing_level': 0.9, 'smoothing_seasonal': 0.9, 'smoothing_slope': 0.1, 'trend': 'mul'}: ExponentialSmoothing.__init__() got an unexpected keyword argument 'smoothing_level'\n",
      "Error with parameters {'seasonal': 'mul', 'seasonal_periods': 12, 'smoothing_level': 0.9, 'smoothing_seasonal': 0.9, 'smoothing_slope': 0.5, 'trend': 'add'}: ExponentialSmoothing.__init__() got an unexpected keyword argument 'smoothing_level'\n",
      "Error with parameters {'seasonal': 'mul', 'seasonal_periods': 12, 'smoothing_level': 0.9, 'smoothing_seasonal': 0.9, 'smoothing_slope': 0.5, 'trend': 'mul'}: ExponentialSmoothing.__init__() got an unexpected keyword argument 'smoothing_level'\n",
      "Error with parameters {'seasonal': 'mul', 'seasonal_periods': 12, 'smoothing_level': 0.9, 'smoothing_seasonal': 0.9, 'smoothing_slope': 0.9, 'trend': 'add'}: ExponentialSmoothing.__init__() got an unexpected keyword argument 'smoothing_level'\n",
      "Error with parameters {'seasonal': 'mul', 'seasonal_periods': 12, 'smoothing_level': 0.9, 'smoothing_seasonal': 0.9, 'smoothing_slope': 0.9, 'trend': 'mul'}: ExponentialSmoothing.__init__() got an unexpected keyword argument 'smoothing_level'\n",
      "Best Model: None\n",
      "Best RMSE: inf\n"
     ]
    }
   ],
   "source": [
    "from statsmodels.tsa.holtwinters import ExponentialSmoothing\n",
    "from sklearn.model_selection import ParameterGrid\n",
    "\n",
    "# Define parameter grid\n",
    "param_grid = {\n",
    "    \"trend\": [\"add\", \"mul\"],\n",
    "    \"seasonal\": [\"add\", \"mul\"],\n",
    "    \"seasonal_periods\": [6, 12],  # Adjust based on data seasonality\n",
    "    \"smoothing_level\": [0.1, 0.5, 0.9],\n",
    "    \"smoothing_slope\": [0.1, 0.5, 0.9],\n",
    "    \"smoothing_seasonal\": [0.1, 0.5, 0.9],\n",
    "}\n",
    "\n",
    "best_model = None\n",
    "best_rmse = float(\"inf\")\n",
    "\n",
    "for params in ParameterGrid(param_grid):\n",
    "    try:\n",
    "        # Fit the model\n",
    "        model = ExponentialSmoothing(sales_series, **params).fit()\n",
    "        \n",
    "        # Forecast\n",
    "        predictions = model.forecast(steps=12)\n",
    "        \n",
    "        # Ensure test_data is not empty or invalid\n",
    "        if len(test_data) < 2:\n",
    "            print(\"⚠️ Warning: Test data is too small! Skipping this model.\")\n",
    "            continue\n",
    "        \n",
    "        if predictions.isnull().sum() > 0:\n",
    "            print(f\"⚠️ Warning: Forecast contains NaN values for {params}. Skipping this model.\")\n",
    "            continue\n",
    "        \n",
    "        # Calculate RMSE\n",
    "        rmse = ((predictions - test_data) ** 2).mean() ** 0.5  # Ensure test_data is defined\n",
    "        \n",
    "        if rmse < best_rmse:\n",
    "            best_rmse = rmse\n",
    "            best_model = model\n",
    "\n",
    "    except Exception as e:\n",
    "        print(f\"Error with parameters {params}: {e}\")\n",
    "\n",
    "# Display the best model and RMSE\n",
    "print(f\"Best Model: {best_model}\")\n",
    "print(f\"Best RMSE: {best_rmse}\")"
   ]
  },
  {
   "cell_type": "code",
   "execution_count": 157,
   "id": "f89b4d8d-6306-4c43-a2aa-b939186d8f59",
   "metadata": {},
   "outputs": [
    {
     "name": "stdout",
     "output_type": "stream",
     "text": [
      "Month\n",
      "2019-08-01    106471\n",
      "2019-09-01    115044\n",
      "2019-10-01    114898\n",
      "2019-11-01     70373\n",
      "2019-12-01     71412\n",
      "2020-01-01     71339\n",
      "2020-02-01    146741\n",
      "2020-03-01     95797\n",
      "2020-04-01     62067\n",
      "2020-05-01    140707\n",
      "2020-06-01    206596\n",
      "2020-07-01    126700\n",
      "2020-08-01    137112\n",
      "2020-09-01     97168\n",
      "2020-10-01     84143\n",
      "2020-11-01    122438\n",
      "2020-12-01    103554\n",
      "2021-01-01    135360\n",
      "2021-02-01    142065\n",
      "2021-03-01    109768\n",
      "2021-04-01    157327\n",
      "2021-05-01    124714\n",
      "2021-06-01    110046\n",
      "2021-07-01    143889\n",
      "2021-08-01     85916\n",
      "2021-09-01     96471\n",
      "2021-10-01     87749\n",
      "2021-11-01    128355\n",
      "2021-12-01    127415\n",
      "2022-01-01    127500\n",
      "2022-02-01    157859\n",
      "2022-03-01    172429\n",
      "2022-04-01    145213\n",
      "2022-05-01    131186\n",
      "2022-06-01     94276\n",
      "2022-07-01     96753\n",
      "2022-08-01    104626\n",
      "2022-09-01     78253\n",
      "2022-10-01     83326\n",
      "2022-11-01     98390\n",
      "2022-12-01    129978\n",
      "2023-01-01    127048\n",
      "2023-02-01    148834\n",
      "2023-03-01    133570\n",
      "2023-04-01     70127\n",
      "2023-05-01    103608\n",
      "2023-06-01    149754\n",
      "2023-07-01     93328\n",
      "2023-08-01    132693\n",
      "2023-09-01    143373\n",
      "2023-10-01    126410\n",
      "2023-11-01     91200\n",
      "2023-12-01    159721\n",
      "Name: Monthly Sales, dtype: int64\n",
      "53\n"
     ]
    }
   ],
   "source": [
    "print(test_data)\n",
    "print(len(test_data))"
   ]
  },
  {
   "cell_type": "code",
   "execution_count": null,
   "id": "d8daa092-4a2f-405d-a9f7-1089ea9d04e8",
   "metadata": {},
   "outputs": [],
   "source": []
  },
  {
   "cell_type": "code",
   "execution_count": null,
   "id": "11db33ae-5f04-4eff-809c-ffa53da7f569",
   "metadata": {},
   "outputs": [],
   "source": []
  },
  {
   "cell_type": "markdown",
   "id": "940c6b39-689d-45bf-8807-ef47da1cfe58",
   "metadata": {},
   "source": [
    "### Using Prophet"
   ]
  },
  {
   "cell_type": "markdown",
   "id": "031c934b-3169-4560-843e-00d3c6032bbd",
   "metadata": {},
   "source": [
    "Prophet is excellent for handling trends, seasonality, and holiday effects."
   ]
  },
  {
   "cell_type": "code",
   "execution_count": 164,
   "id": "3fa8af06-e9e5-43c7-8d12-969461f708ed",
   "metadata": {},
   "outputs": [
    {
     "name": "stdout",
     "output_type": "stream",
     "text": [
      "Requirement already satisfied: prophet in c:\\users\\omast\\anaconda3\\lib\\site-packages (1.1.6)\n",
      "Requirement already satisfied: cmdstanpy>=1.0.4 in c:\\users\\omast\\anaconda3\\lib\\site-packages (from prophet) (1.2.5)\n",
      "Requirement already satisfied: numpy>=1.15.4 in c:\\users\\omast\\anaconda3\\lib\\site-packages (from prophet) (1.26.4)\n",
      "Requirement already satisfied: matplotlib>=2.0.0 in c:\\users\\omast\\anaconda3\\lib\\site-packages (from prophet) (3.9.2)\n",
      "Requirement already satisfied: pandas>=1.0.4 in c:\\users\\omast\\anaconda3\\lib\\site-packages (from prophet) (2.2.2)\n",
      "Requirement already satisfied: holidays<1,>=0.25 in c:\\users\\omast\\anaconda3\\lib\\site-packages (from prophet) (0.67)\n",
      "Requirement already satisfied: tqdm>=4.36.1 in c:\\users\\omast\\anaconda3\\lib\\site-packages (from prophet) (4.66.5)\n",
      "Requirement already satisfied: importlib-resources in c:\\users\\omast\\anaconda3\\lib\\site-packages (from prophet) (6.5.2)\n",
      "Requirement already satisfied: stanio<2.0.0,>=0.4.0 in c:\\users\\omast\\anaconda3\\lib\\site-packages (from cmdstanpy>=1.0.4->prophet) (0.5.1)\n",
      "Requirement already satisfied: python-dateutil in c:\\users\\omast\\anaconda3\\lib\\site-packages (from holidays<1,>=0.25->prophet) (2.9.0.post0)\n",
      "Requirement already satisfied: contourpy>=1.0.1 in c:\\users\\omast\\anaconda3\\lib\\site-packages (from matplotlib>=2.0.0->prophet) (1.2.0)\n",
      "Requirement already satisfied: cycler>=0.10 in c:\\users\\omast\\anaconda3\\lib\\site-packages (from matplotlib>=2.0.0->prophet) (0.11.0)\n",
      "Requirement already satisfied: fonttools>=4.22.0 in c:\\users\\omast\\anaconda3\\lib\\site-packages (from matplotlib>=2.0.0->prophet) (4.51.0)\n",
      "Requirement already satisfied: kiwisolver>=1.3.1 in c:\\users\\omast\\anaconda3\\lib\\site-packages (from matplotlib>=2.0.0->prophet) (1.4.4)\n",
      "Requirement already satisfied: packaging>=20.0 in c:\\users\\omast\\anaconda3\\lib\\site-packages (from matplotlib>=2.0.0->prophet) (24.1)\n",
      "Requirement already satisfied: pillow>=8 in c:\\users\\omast\\anaconda3\\lib\\site-packages (from matplotlib>=2.0.0->prophet) (10.4.0)\n",
      "Requirement already satisfied: pyparsing>=2.3.1 in c:\\users\\omast\\anaconda3\\lib\\site-packages (from matplotlib>=2.0.0->prophet) (3.1.2)\n",
      "Requirement already satisfied: pytz>=2020.1 in c:\\users\\omast\\anaconda3\\lib\\site-packages (from pandas>=1.0.4->prophet) (2024.1)\n",
      "Requirement already satisfied: tzdata>=2022.7 in c:\\users\\omast\\anaconda3\\lib\\site-packages (from pandas>=1.0.4->prophet) (2023.3)\n",
      "Requirement already satisfied: colorama in c:\\users\\omast\\anaconda3\\lib\\site-packages (from tqdm>=4.36.1->prophet) (0.4.6)\n",
      "Requirement already satisfied: six>=1.5 in c:\\users\\omast\\anaconda3\\lib\\site-packages (from python-dateutil->holidays<1,>=0.25->prophet) (1.16.0)\n",
      "Note: you may need to restart the kernel to use updated packages.\n"
     ]
    }
   ],
   "source": [
    "pip install prophet"
   ]
  },
  {
   "cell_type": "markdown",
   "id": "091c39b7-a4d8-4e39-b0fb-0770ee7b1a79",
   "metadata": {},
   "source": [
    "### Train Prophet model"
   ]
  },
  {
   "cell_type": "code",
   "execution_count": null,
   "id": "f75e6cfc-90a6-48f5-8b37-fcef5aa7eb05",
   "metadata": {},
   "outputs": [],
   "source": []
  },
  {
   "cell_type": "code",
   "execution_count": 171,
   "id": "e69010e7-dc20-44fe-bf53-955e9f4ef276",
   "metadata": {},
   "outputs": [
    {
     "name": "stdout",
     "output_type": "stream",
     "text": [
      "       Month  Actual Sales  ARIMA Forecast  Holt-Winters Forecast  \\\n",
      "0 2023-09-01         75000          118000                  75000   \n",
      "1 2023-10-01         60000          120000                  85000   \n",
      "2 2023-11-01        140000          119500                 100000   \n",
      "3 2023-12-01         65000          121000                 110000   \n",
      "\n",
      "   SES Forecast  \n",
      "0        120000  \n",
      "1        121000  \n",
      "2        119000  \n",
      "3        120500  \n"
     ]
    }
   ],
   "source": [
    "print(df.head())  # Check the original DataFrame"
   ]
  },
  {
   "cell_type": "code",
   "execution_count": 173,
   "id": "c3db21c0-06ba-408b-945d-6d3b53570701",
   "metadata": {},
   "outputs": [
    {
     "name": "stdout",
     "output_type": "stream",
     "text": [
      "Columns in DataFrame: Index(['Month', 'Actual Sales', 'ARIMA Forecast', 'Holt-Winters Forecast',\n",
      "       'SES Forecast'],\n",
      "      dtype='object')\n",
      "          ds       y  ARIMA Forecast  Holt-Winters Forecast  SES Forecast\n",
      "0 2023-09-01   75000          118000                  75000        120000\n",
      "1 2023-10-01   60000          120000                  85000        121000\n",
      "2 2023-11-01  140000          119500                 100000        119000\n",
      "3 2023-12-01   65000          121000                 110000        120500\n"
     ]
    }
   ],
   "source": [
    "from prophet import Prophet\n",
    "\n",
    "# Reset index if necessary\n",
    "if df.index.name == \"Date\":\n",
    "    df_prophet = df.reset_index()\n",
    "else:\n",
    "    df_prophet = df.copy()\n",
    "\n",
    "# Print column names for debugging\n",
    "print(\"Columns in DataFrame:\", df_prophet.columns)\n",
    "\n",
    "# Ensure correct column names before renaming\n",
    "if \"Month\" in df_prophet.columns and \"Actual Sales\" in df_prophet.columns:\n",
    "    df_prophet = df_prophet.rename(columns={\"Month\": \"ds\", \"Actual Sales\": \"y\"})\n",
    "else:\n",
    "    raise KeyError(\"Ensure the columns 'Month' and 'Actual Sales' exist in your DataFrame.\")\n",
    "\n",
    "# Display the first few rows\n",
    "print(df_prophet.head())"
   ]
  },
  {
   "cell_type": "markdown",
   "id": "3104587f-1d9c-496a-ba1b-a14afb1b64a3",
   "metadata": {},
   "source": [
    "### Key Observations\n",
    "* Holt-Winters forecast is the most accurate for September (75,000 vs. 75,000).\n",
    "* ARIMA and SES consistently overestimate sales, especially for October and December.\n",
    "* November's actual sales (140,000) are much higher than all forecasts, showing a possible sales spike."
   ]
  },
  {
   "cell_type": "markdown",
   "id": "dc89e49c-e3c6-4462-aacb-f6577f05d7e7",
   "metadata": {},
   "source": []
  },
  {
   "cell_type": "code",
   "execution_count": null,
   "id": "6737f648-bcb9-4ba9-b40a-1823507bdf6c",
   "metadata": {
    "scrolled": true
   },
   "outputs": [],
   "source": []
  },
  {
   "cell_type": "code",
   "execution_count": 181,
   "id": "0bc1c19a-3b1a-4582-bf7e-7030cae97f34",
   "metadata": {},
   "outputs": [],
   "source": []
  },
  {
   "cell_type": "code",
   "execution_count": 183,
   "id": "a9b5bdea-0a2e-46c9-b741-2586bfb5373e",
   "metadata": {},
   "outputs": [],
   "source": []
  },
  {
   "cell_type": "code",
   "execution_count": null,
   "id": "d887add3-d84c-431c-b9aa-c798956f06b2",
   "metadata": {},
   "outputs": [],
   "source": []
  },
  {
   "cell_type": "code",
   "execution_count": null,
   "id": "764060e5-9725-4cda-8504-92b16e2d2cd5",
   "metadata": {},
   "outputs": [],
   "source": []
  },
  {
   "cell_type": "code",
   "execution_count": null,
   "id": "dc052059-732b-4a1b-ac9d-81114efaa36e",
   "metadata": {},
   "outputs": [],
   "source": []
  },
  {
   "cell_type": "code",
   "execution_count": null,
   "id": "b3fbcf68-2ca8-408f-8b96-97a7fdf43c37",
   "metadata": {},
   "outputs": [],
   "source": []
  },
  {
   "cell_type": "code",
   "execution_count": null,
   "id": "2825764e-b3f3-48cc-8ebc-edb8b1890e07",
   "metadata": {},
   "outputs": [],
   "source": []
  },
  {
   "cell_type": "markdown",
   "id": "d103c312-74f4-48f3-b0fe-08b681f5eeec",
   "metadata": {},
   "source": []
  },
  {
   "cell_type": "code",
   "execution_count": null,
   "id": "9b1a3e1d-d5a7-4bd8-8f12-ac70840f7173",
   "metadata": {},
   "outputs": [],
   "source": []
  },
  {
   "cell_type": "code",
   "execution_count": null,
   "id": "0c975d9c-17e4-44f5-a9a8-9bf82f503919",
   "metadata": {},
   "outputs": [],
   "source": []
  },
  {
   "cell_type": "code",
   "execution_count": null,
   "id": "fe784b94-de4a-4072-b255-7c2425c475a2",
   "metadata": {},
   "outputs": [],
   "source": []
  },
  {
   "cell_type": "code",
   "execution_count": null,
   "id": "3c32ced8-b4a1-46e9-a8d5-fd627b591ee5",
   "metadata": {},
   "outputs": [],
   "source": []
  }
 ],
 "metadata": {
  "kernelspec": {
   "display_name": "Python [conda env:base] *",
   "language": "python",
   "name": "conda-base-py"
  },
  "language_info": {
   "codemirror_mode": {
    "name": "ipython",
    "version": 3
   },
   "file_extension": ".py",
   "mimetype": "text/x-python",
   "name": "python",
   "nbconvert_exporter": "python",
   "pygments_lexer": "ipython3",
   "version": "3.12.7"
  }
 },
 "nbformat": 4,
 "nbformat_minor": 5
}
